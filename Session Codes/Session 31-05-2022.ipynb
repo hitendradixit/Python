{
 "cells": [
  {
   "cell_type": "markdown",
   "metadata": {},
   "source": [
    "REGEX module"
   ]
  },
  {
   "cell_type": "code",
   "execution_count": 1,
   "metadata": {},
   "outputs": [],
   "source": [
    "import re"
   ]
  },
  {
   "cell_type": "markdown",
   "metadata": {},
   "source": [
    "1. match,\n",
    "2. search,\n",
    "3. findall,\n",
    "4. split,\n",
    "5. sub"
   ]
  },
  {
   "cell_type": "markdown",
   "metadata": {},
   "source": [
    "META-CHARACTERS\n",
    "1. [] -> set of characters -> \"[a-z]\",\n",
    "2. \\ -> check for special sequence -> \"\\t\",\n",
    "3. . -> signals that any character is present at specific position or not -> \"Py.h.n\",\n",
    "4. ^ -> checks for pattern present at the begining of string -> \"^Python\",\n",
    "5. $ -> represents the pattern present at the end of the string -> \"Python$\",\n",
    "6. \"*\" -> represents zero or more occurence of pattern in the string -> \"hello*\",\n",
    "7. \"+\" -> represents one or more occurence of pattern in the string -> \"hello+\",\n",
    "8. {} -> this specifies the number of occ. in the list of a particular pattern -> \"python{2}\",\n",
    "9. | -> checks if this or that charcater is present -> \"hello|world\"\n",
    "10. ()-> capture and group"
   ]
  },
  {
   "cell_type": "markdown",
   "metadata": {},
   "source": [
    "SPECIAL SEQUENCE \n",
    "1. \\A -> retunrs match if the specified charac are present at the beg of the string\n",
    "2. \\b -> retunrs match if the specified charac are present at the beg or end of the string\n",
    "3. \\B ->retunrs match if the specified char are present at the beg but not at end of the string\n",
    "4. \\d -> returns a match if the string contains digit [0-9]\n",
    "5. \\D -> returns a match if the string doesn't contains digit [0-9]\n",
    "6. \\s -> returns a match if the string contains any white spcae character\n",
    "7. \\S -> returns a match if the string doesn't contains any white spcae character\n",
    "8. \\w -> returns a match if the string contains any word character\n",
    "9. \\W -> returns a match if the string doesn't contains any word character\n",
    "10. \\Z -> returns a match if the specified characters are present at the end of the string"
   ]
  },
  {
   "cell_type": "markdown",
   "metadata": {},
   "source": [
    "SET CHARACTERS\n",
    "1. [arn] -> retruns a match if the string contains any of the specified char in the string\n",
    "2. [a-n] -> returns a match if the string contains any of the char bet. a and n\n",
    "3. [^arn] -> returns a match if the string contains char except a, r, n\n",
    "4. [123] -> retrun a match if the string contains any of the digits specified\n",
    "5. [0-9] -> returns a match if the string contains digits between 0 and 9\n",
    "6. [0-5][0-9] -> returns a match if the string contains digits between 00 and 59\n",
    "7. [a-zA-Z] -> returns a match if the string contains any alphabet (lower-case or upper case)"
   ]
  },
  {
   "cell_type": "code",
   "execution_count": 3,
   "metadata": {},
   "outputs": [
    {
     "name": "stdout",
     "output_type": "stream",
     "text": [
      "Total matches found: []\n"
     ]
    }
   ],
   "source": [
    "str1 = \"Hello, how are you, how is everything going on?\"\n",
    "matches = re.findall(\"how\", str1) #returns a list containing all the matches\n",
    "print(f\"Total matches found: {matches}\")"
   ]
  },
  {
   "cell_type": "code",
   "execution_count": 8,
   "metadata": {},
   "outputs": [
    {
     "name": "stdout",
     "output_type": "stream",
     "text": [
      "<re.Match object; span=(7, 10), match='how'>\n"
     ]
    }
   ],
   "source": [
    "str1 = \"Hello, how are you, how is everything going on?\"\n",
    "matches = re.search(\"how\", str1) #this returns the first matched position with the span and returns None if the pattern doesn't matches up\n",
    "print(matches)"
   ]
  },
  {
   "cell_type": "code",
   "execution_count": 10,
   "metadata": {},
   "outputs": [
    {
     "name": "stdout",
     "output_type": "stream",
     "text": [
      "Using span method here : (11, 14)\n",
      "Using string object here : Hello, Hi, how are you, how is everything going on?, I am going to play football wanna join up\n",
      "Using group method here: how\n"
     ]
    }
   ],
   "source": [
    "#match object methods\n",
    "str1 = \"Hello, Hi, how are you, how is everything going on?, I am going to play football wanna join up\"\n",
    "matches = re.search(\"how\", str1)\n",
    "print(f\"Using span method here : {matches.span()}\") #span returns the starting and ending position of the first match found\n",
    "print(f\"Using string object here : {matches.string}\") #returns the string passed in the search method to be matched up with i.e. str1 in this case\n",
    "print(f\"Using group method here: {matches.group()}\") #returns the part of string where the match is found"
   ]
  },
  {
   "cell_type": "code",
   "execution_count": 12,
   "metadata": {},
   "outputs": [
    {
     "name": "stdout",
     "output_type": "stream",
     "text": [
      "The first white-space character is located at: 10\n"
     ]
    }
   ],
   "source": [
    "#checking the white spaces\n",
    "txt = \"My favorite sports is football\"\n",
    "x = re.search(\"\\s\", txt)\n",
    "print(f\"The first white-space character is located at: {x.start()}\")"
   ]
  },
  {
   "cell_type": "code",
   "execution_count": 16,
   "metadata": {},
   "outputs": [
    {
     "name": "stdout",
     "output_type": "stream",
     "text": [
      "['o', 'o', 'o', 'o']\n"
     ]
    }
   ],
   "source": [
    "#checking a set of characters\n",
    "txt = \"My favorite sports is football\"\n",
    "x = re.findall( \"[m-o]\", txt)\n",
    "print(x)"
   ]
  },
  {
   "cell_type": "code",
   "execution_count": 20,
   "metadata": {},
   "outputs": [
    {
     "name": "stdout",
     "output_type": "stream",
     "text": [
      "My favorite sports 59 is football\n",
      "['5', '9']\n"
     ]
    }
   ],
   "source": [
    "#checking the  \"\\\" meta character\n",
    "txt = \"My favorite sports 59 is football\"\n",
    "print(txt)\n",
    "x = re.findall( \"\\d\", txt)\n",
    "print(x)"
   ]
  },
  {
   "cell_type": "code",
   "execution_count": 23,
   "metadata": {},
   "outputs": [
    {
     "name": "stdout",
     "output_type": "stream",
     "text": [
      "My favorite sports 59 is football\n",
      "['My']\n"
     ]
    }
   ],
   "source": [
    "#checking the  \"^\" meta character\n",
    "txt = \"My favorite sports 59 is football\"\n",
    "print(txt)\n",
    "x = re.findall( \"^My\", txt) #checking if the string starts with \"My\" or not\n",
    "print(x)"
   ]
  },
  {
   "cell_type": "code",
   "execution_count": 24,
   "metadata": {},
   "outputs": [
    {
     "name": "stdout",
     "output_type": "stream",
     "text": [
      "My favorite sports 59 is football\n",
      "['ball']\n"
     ]
    }
   ],
   "source": [
    "#checking the  \"$\" meta character\n",
    "txt = \"My favorite sports 59 is football\"\n",
    "print(txt)\n",
    "x = re.findall( \"ball$\", txt) #checking if the string ends with \"ball\" or not\n",
    "print(x)"
   ]
  },
  {
   "cell_type": "code",
   "execution_count": 32,
   "metadata": {},
   "outputs": [
    {
     "name": "stdout",
     "output_type": "stream",
     "text": [
      "['pla']\n"
     ]
    }
   ],
   "source": [
    "#checking for \"*\" meta character\n",
    "txt = \"hello planet\"\n",
    "x = re.findall(\"pl.*a\", txt) #starts with \"pl\" and end with \"t\", here \"pl\" is followed by 0 or more characters and then ends with \"t\"\n",
    "print(x)"
   ]
  },
  {
   "cell_type": "code",
   "execution_count": 35,
   "metadata": {},
   "outputs": [
    {
     "name": "stdout",
     "output_type": "stream",
     "text": [
      "[]\n"
     ]
    }
   ],
   "source": [
    "#checking for \"+\" meta character\n",
    "txt = \"hello planet\"\n",
    "x = re.findall(\"pl.+a\", txt) #starts with \"pl\" and end with \"a\", here \"pl\" is followed by 1 or more characters and then ends with \"a\"\n",
    "print(x)"
   ]
  },
  {
   "cell_type": "code",
   "execution_count": 39,
   "metadata": {},
   "outputs": [
    {
     "name": "stdout",
     "output_type": "stream",
     "text": [
      "['planet']\n"
     ]
    }
   ],
   "source": [
    "#checking for \"{}\" meta character\n",
    "txt = \"hello planet\"\n",
    "x = re.findall(\"pl.{3}t\", txt) #this tells exactly the specified number of occurences\n",
    "print(x)"
   ]
  },
  {
   "cell_type": "code",
   "execution_count": 44,
   "metadata": {},
   "outputs": [
    {
     "name": "stdout",
     "output_type": "stream",
     "text": [
      "<class 'list'>\n",
      "['falls ']\n"
     ]
    }
   ],
   "source": [
    "#checking for \"|\" meta character\n",
    "txt = \"The rain in spain mainly falls in plain\"\n",
    "x = re.findall(\"falls | stays\", txt) #checks if the string contains \"falls\" or \"stays\"\n",
    "print(type(x))\n",
    "print(x)"
   ]
  },
  {
   "cell_type": "code",
   "execution_count": 47,
   "metadata": {},
   "outputs": [
    {
     "name": "stdout",
     "output_type": "stream",
     "text": [
      "Yes, there is a match\n"
     ]
    }
   ],
   "source": [
    "#checking for \"\\A\" Special Sequence\n",
    "txt = \"The rain in spain mainly falls in plain\"\n",
    "x = re.findall(\"\\AThe\",txt)\n",
    "if x:\n",
    "    print(\"Yes, there is a match\")\n",
    "else:\n",
    "    print(\"No match found\")"
   ]
  },
  {
   "cell_type": "code",
   "execution_count": 48,
   "metadata": {},
   "outputs": [
    {
     "name": "stdout",
     "output_type": "stream",
     "text": [
      "No Match\n"
     ]
    }
   ],
   "source": [
    "#checking for \"\\b\" Special Sequence\n",
    "txt = \"The rain in spain mainly falls in plain\"\n",
    "x = re.findall(r\"\\bain\", txt) #other way to write this -> re.findall(r\"ain\\b\",txt)\n",
    "if x:\n",
    "    print(\"yes, this is present at the begining of the string\")\n",
    "else:\n",
    "    print(\"No Match\")"
   ]
  },
  {
   "cell_type": "code",
   "execution_count": 50,
   "metadata": {},
   "outputs": [
    {
     "name": "stdout",
     "output_type": "stream",
     "text": [
      "yes, this is not present at the begining of the string\n"
     ]
    }
   ],
   "source": [
    "#checking for \"\\B\" Special Sequence\n",
    "txt = \"The rain in spain mainly falls in plain\"\n",
    "x = re.findall(r\"\\Bain\", txt)#other way to write this -> re.findall(r\"ain\\B\",txt)\n",
    "if x:\n",
    "    print(\"yes, this is not present at the begining of the string\")\n",
    "else:\n",
    "    print(\"No, this is present at the begining of the string\")"
   ]
  },
  {
   "cell_type": "code",
   "execution_count": 57,
   "metadata": {},
   "outputs": [
    {
     "name": "stdout",
     "output_type": "stream",
     "text": [
      "No Match\n"
     ]
    }
   ],
   "source": [
    "#checking for \"\\d\" Special Sequence\n",
    "txt = \"The rain in spain mainly falls in plain\"\n",
    "x = re.findall(r\"\\bd\", txt)\n",
    "if x:\n",
    "    print(\"yes, there is atleast on digit in the string\")\n",
    "else:\n",
    "    print(\"No Match\")"
   ]
  },
  {
   "cell_type": "code",
   "execution_count": 59,
   "metadata": {},
   "outputs": [
    {
     "name": "stdout",
     "output_type": "stream",
     "text": [
      "yes, there is no digit in the string\n"
     ]
    }
   ],
   "source": [
    "#checking for \"\\D\" Special Sequence\n",
    "txt = \"The rain in spain mainly falls in plain\"\n",
    "x = re.findall(r\"\\D\", txt)\n",
    "if x:\n",
    "    print(\"yes, there is no digit in the string\")\n",
    "else:\n",
    "    print(\"No Match\")"
   ]
  },
  {
   "cell_type": "code",
   "execution_count": 63,
   "metadata": {},
   "outputs": [
    {
     "name": "stdout",
     "output_type": "stream",
     "text": [
      "yes, there  is atleast on match\n"
     ]
    }
   ],
   "source": [
    "#checking for \"\\w\" Special Sequence\n",
    "txt = \"66./?':;859\"\n",
    "x = re.findall(r\"\\w\", txt)\n",
    "if x:\n",
    "    print(\"yes, there  is atleast on match\")\n",
    "else:\n",
    "    print(\"No Match\")"
   ]
  },
  {
   "cell_type": "code",
   "execution_count": 70,
   "metadata": {},
   "outputs": [
    {
     "name": "stdout",
     "output_type": "stream",
     "text": [
      "No Match\n"
     ]
    }
   ],
   "source": [
    "#checking for \"[arn]\" set method\n",
    "txt = \"The rain in spain mainly falls in plain\"\n",
    "x = re.findall(\"[zq]\", txt)\n",
    "if x:\n",
    "    print(\"yes, there is a match with z or q  in the string\")\n",
    "else:\n",
    "    print(\"No Match\")"
   ]
  },
  {
   "cell_type": "code",
   "execution_count": 73,
   "metadata": {},
   "outputs": [
    {
     "name": "stdout",
     "output_type": "stream",
     "text": [
      "yes, there is a match with no z and q  in the string\n"
     ]
    }
   ],
   "source": [
    "#checking for \"[^arn]\" set method\n",
    "txt = \"The rain in spain mainly falls in plain\"\n",
    "x = re.findall(\"[^zq]\", txt)\n",
    "if x:\n",
    "    print(\"yes, there is a match with no z and q  in the string\")\n",
    "else:\n",
    "    print(\"No Match\")"
   ]
  },
  {
   "cell_type": "code",
   "execution_count": 75,
   "metadata": {},
   "outputs": [
    {
     "name": "stdout",
     "output_type": "stream",
     "text": [
      "yes, there is a match with characters between a and k  in the string\n"
     ]
    }
   ],
   "source": [
    "#checking for \"[a-k]\" set method\n",
    "txt = \"The rain in spain mainly falls in plain\"\n",
    "x = re.findall(\"[a-k]\", txt)\n",
    "if x:\n",
    "    print(\"yes, there is a match with characters between a and k  in the string\")\n",
    "else:\n",
    "    print(\"No Match\")"
   ]
  },
  {
   "cell_type": "code",
   "execution_count": 78,
   "metadata": {},
   "outputs": [
    {
     "name": "stdout",
     "output_type": "stream",
     "text": [
      "yes, there is a match with digits 1, 2 or 3 in the string\n"
     ]
    }
   ],
   "source": [
    "#checking for \"[123]\" set method\n",
    "txt = \"The rain in spain mainly 1falls in plain\"\n",
    "x = re.findall(\"[123]\", txt)\n",
    "if x:\n",
    "    print(\"yes, there is a match with digits 1, 2 or 3 in the string\")\n",
    "else:\n",
    "    print(\"No Match\")"
   ]
  },
  {
   "cell_type": "code",
   "execution_count": 80,
   "metadata": {},
   "outputs": [
    {
     "name": "stdout",
     "output_type": "stream",
     "text": [
      "yes, there is a match with digits between 0 and 9 in the string\n"
     ]
    }
   ],
   "source": [
    "#checking for \"[0-9]\" set method\n",
    "txt = \"The rain in spain mainly 1falls in plain\"\n",
    "x = re.findall(\"[0-9]\", txt)\n",
    "if x:\n",
    "    print(\"yes, there is a match with digits between 0 and 9 in the string\")\n",
    "else:\n",
    "    print(\"No Match\")"
   ]
  },
  {
   "cell_type": "code",
   "execution_count": 94,
   "metadata": {},
   "outputs": [
    {
     "name": "stdout",
     "output_type": "stream",
     "text": [
      "No Match\n"
     ]
    }
   ],
   "source": [
    "#checking for \"[0-5][0-9]\" set method\n",
    "txt = \"The rain in spain mainly 79falls in plain\" #here 79 is out of the give range\n",
    "x = re.findall(\"[0-5][0-9]\", txt)\n",
    "if x:\n",
    "    print(\"yes, there is a match with digits between 00 and 59 in the string\")\n",
    "else:\n",
    "    print(\"No Match\")"
   ]
  },
  {
   "cell_type": "code",
   "execution_count": 97,
   "metadata": {},
   "outputs": [
    {
     "name": "stdout",
     "output_type": "stream",
     "text": [
      "yes, there is a match in the string\n"
     ]
    }
   ],
   "source": [
    "#checking for \"[a-zA-Z]\" set method\n",
    "txt = \"The rain in spain mainly 79falls in plain\"\n",
    "x = re.findall(\"[a-zA-Z]\", txt)\n",
    "if x:\n",
    "    print(\"yes, there is a match in the string\")\n",
    "else:\n",
    "    print(\"No Match\")"
   ]
  },
  {
   "cell_type": "code",
   "execution_count": 100,
   "metadata": {},
   "outputs": [
    {
     "name": "stdout",
     "output_type": "stream",
     "text": [
      "yes, there is a + sign in the string\n"
     ]
    }
   ],
   "source": [
    "#checking for \"[+]\" set method\n",
    "txt = \"The rain in spain + mainly 79falls in plain\"\n",
    "x = re.findall(\"[+]\", txt)\n",
    "if x:\n",
    "    print(\"yes, there is a + sign in the string\")\n",
    "else:\n",
    "    print(\"No Match\")"
   ]
  },
  {
   "cell_type": "code",
   "execution_count": 101,
   "metadata": {},
   "outputs": [
    {
     "name": "stdout",
     "output_type": "stream",
     "text": [
      "yes, there is a * sign in the string\n"
     ]
    }
   ],
   "source": [
    "#checking for \"[*]\" set method\n",
    "txt = \"The rain in spain * mainly 79falls in plain\"\n",
    "x = re.findall(\"[*]\", txt)\n",
    "if x:\n",
    "    print(\"yes, there is a * sign in the string\")\n",
    "else:\n",
    "    print(\"No Match\")"
   ]
  },
  {
   "cell_type": "markdown",
   "metadata": {},
   "source": [
    "Split method"
   ]
  },
  {
   "cell_type": "code",
   "execution_count": 104,
   "metadata": {},
   "outputs": [
    {
     "name": "stdout",
     "output_type": "stream",
     "text": [
      "['The', 'rain', 'in', 'spain', 'mainly', 'falls', 'in', 'plain']\n"
     ]
    }
   ],
   "source": [
    "txt = \"The rain in spain mainly falls in plain\"\n",
    "x = re.split(\"\\s\", txt) #splits the string on the basis of white space characters\n",
    "print(x)"
   ]
  },
  {
   "cell_type": "code",
   "execution_count": 105,
   "metadata": {},
   "outputs": [
    {
     "name": "stdout",
     "output_type": "stream",
     "text": [
      "['The', 'rain in spain mainly falls in plain']\n"
     ]
    }
   ],
   "source": [
    "#split the string only at first occurence\n",
    "txt = \"The rain in spain mainly falls in plain\"\n",
    "x = re.split(\"\\s\", txt, 1) #splits the string only at first occurence\n",
    "print(x)"
   ]
  },
  {
   "cell_type": "markdown",
   "metadata": {},
   "source": [
    "Sub method"
   ]
  },
  {
   "cell_type": "code",
   "execution_count": 106,
   "metadata": {},
   "outputs": [
    {
     "name": "stdout",
     "output_type": "stream",
     "text": [
      "The - rain - in - spain - mainly - falls - in - plain\n"
     ]
    }
   ],
   "source": [
    "txt = \"The rain in spain mainly falls in plain\"\n",
    "x = re.sub(\"\\s\", \" - \", txt) #here the white space will be replaced by the \" - \" character\n",
    "print(x)"
   ]
  },
  {
   "cell_type": "code",
   "execution_count": 107,
   "metadata": {},
   "outputs": [
    {
     "name": "stdout",
     "output_type": "stream",
     "text": [
      "The + rain + in spain mainly falls in plain\n"
     ]
    }
   ],
   "source": [
    "#replace the first 2 occurences only\n",
    "txt = \"The rain in spain mainly falls in plain\"\n",
    "x = re.sub(\"\\s\", \" + \", txt, 2) #this will replace the white space only for first 2 occurences\n",
    "print(x)"
   ]
  }
 ],
 "metadata": {
  "interpreter": {
   "hash": "2c4a0e462d5eb47ccb02ab75c092febb222556232e160fc793b5c239a0fdd870"
  },
  "kernelspec": {
   "display_name": "Python 3.10.0 64-bit",
   "language": "python",
   "name": "python3"
  },
  "language_info": {
   "codemirror_mode": {
    "name": "ipython",
    "version": 3
   },
   "file_extension": ".py",
   "mimetype": "text/x-python",
   "name": "python",
   "nbconvert_exporter": "python",
   "pygments_lexer": "ipython3",
   "version": "3.10.0"
  },
  "orig_nbformat": 4
 },
 "nbformat": 4,
 "nbformat_minor": 2
}
