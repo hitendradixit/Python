{
 "cells": [
  {
   "cell_type": "markdown",
   "metadata": {},
   "source": [
    "Functions"
   ]
  },
  {
   "cell_type": "code",
   "execution_count": 1,
   "metadata": {},
   "outputs": [
    {
     "name": "stdout",
     "output_type": "stream",
     "text": [
      "13\n"
     ]
    }
   ],
   "source": [
    "list1 = [1, 3, 4, 5]\n",
    "sum = 0\n",
    "for i in list1:\n",
    "    sum += i\n",
    "print(sum)"
   ]
  },
  {
   "cell_type": "code",
   "execution_count": 7,
   "metadata": {},
   "outputs": [
    {
     "name": "stdout",
     "output_type": "stream",
     "text": [
      "Calling the function here\n",
      "Hello you are in the function\n"
     ]
    }
   ],
   "source": [
    "#function with no arguments and no return value\n",
    "def myfunc():\n",
    "    print(\"Hello you are in the function\")\n",
    "print(\"Calling the function here\")\n",
    "myfunc()"
   ]
  },
  {
   "cell_type": "code",
   "execution_count": 10,
   "metadata": {},
   "outputs": [
    {
     "name": "stdout",
     "output_type": "stream",
     "text": [
      "Calling the function\n",
      "Hello you are in function and this function returns a value which will be printed after this statement\n",
      "The valule returned by the function is 5\n"
     ]
    }
   ],
   "source": [
    "#function with no arguments and a return value\n",
    "def myfunc1():\n",
    "    print(\"Hello you are in function and this function returns a value which will be printed after this statement\")\n",
    "    return 5\n",
    "print(\"Calling the function\")\n",
    "a = myfunc1()\n",
    "\n",
    "print(f\"The valule returned by the function is {a}\")"
   ]
  },
  {
   "cell_type": "code",
   "execution_count": 15,
   "metadata": {},
   "outputs": [
    {
     "name": "stdout",
     "output_type": "stream",
     "text": [
      "Calling the function\n",
      "The sum of two values passed in the function is : 11\n"
     ]
    }
   ],
   "source": [
    "#function with arguments and no return value\n",
    "def myfunc2(a, b):\n",
    "    print(f\"The sum of two values passed in the function is : {a + b}\")\n",
    "print(\"Calling the function\")\n",
    "myfunc2(5, 6)"
   ]
  },
  {
   "cell_type": "code",
   "execution_count": 16,
   "metadata": {},
   "outputs": [
    {
     "name": "stdout",
     "output_type": "stream",
     "text": [
      "Calling the function\n",
      "The value returned by the function is : \n",
      "12\n"
     ]
    }
   ],
   "source": [
    "#function with arguments and return value\n",
    "def myfunc3(a, b):\n",
    "    sum = a + b\n",
    "    return sum #or return (a + b)\n",
    "print(\"Calling the function\")\n",
    "print(\"The value returned by the function is : \" )\n",
    "a  = myfunc3(5, 7)\n",
    "print(a)"
   ]
  },
  {
   "cell_type": "markdown",
   "metadata": {},
   "source": [
    "Iterators"
   ]
  },
  {
   "cell_type": "code",
   "execution_count": 20,
   "metadata": {},
   "outputs": [
    {
     "name": "stdout",
     "output_type": "stream",
     "text": [
      "10\n",
      "20\n",
      "30\n",
      "40\n",
      "50\n"
     ]
    }
   ],
   "source": [
    "num = [10, 20, 30, 40, 50]\n",
    "itr = iter(num) #elements in the list are called iter\n",
    "print(next(itr))\n",
    "print(next(itr))\n",
    "print(next(itr))\n",
    "print(next(itr))\n",
    "print(next(itr))\n",
    "\n"
   ]
  },
  {
   "cell_type": "code",
   "execution_count": 22,
   "metadata": {},
   "outputs": [
    {
     "name": "stdout",
     "output_type": "stream",
     "text": [
      "0\n",
      "1\n"
     ]
    }
   ],
   "source": [
    "class counter:\n",
    "    def __init__(self, maximum):\n",
    "        self.maximum = maximum\n",
    "    def __iter__(self):\n",
    "        self.number = 0\n",
    "        return self\n",
    "    def __next__(self):\n",
    "        number = self.number\n",
    "        if number > self.maximum:\n",
    "            raise StopIteration\n",
    "        else:\n",
    "            self.number = number + 1\n",
    "            return number\n",
    "numbers = counter(10)\n",
    "a = iter(numbers)\n",
    "print(next(a))\n",
    "print(next(a))\n"
   ]
  },
  {
   "cell_type": "code",
   "execution_count": 25,
   "metadata": {},
   "outputs": [
    {
     "name": "stdout",
     "output_type": "stream",
     "text": [
      "The length of list is 5\n",
      "The maximum value in the list is 50\n",
      "The minimum value in the list is 10\n"
     ]
    }
   ],
   "source": [
    "num = [10, 20, 30, 40, 50]\n",
    "print(f\"The length of list is {len(num)}\")\n",
    "print(f\"The maximum value in the list is {max(num)}\")\n",
    "print(f\"The minimum value in the list is {min(num)}\")"
   ]
  },
  {
   "cell_type": "markdown",
   "metadata": {},
   "source": [
    "map function"
   ]
  },
  {
   "cell_type": "code",
   "execution_count": 37,
   "metadata": {},
   "outputs": [
    {
     "name": "stdout",
     "output_type": "stream",
     "text": [
      "<class 'map'>\n",
      "<class 'list'>\n"
     ]
    }
   ],
   "source": [
    "def add1(num):\n",
    "    return num**3\n",
    "\n",
    "num = [2, 3, 4, 5, 6, 7, 8, 9, 10]\n",
    "result = map(add1,num) #this will just apply the function and store the log value in the variable\n",
    "print(type(result))\n",
    "result = list(result)\n",
    "print(type(result))"
   ]
  },
  {
   "cell_type": "code",
   "execution_count": 30,
   "metadata": {},
   "outputs": [],
   "source": [
    "import math"
   ]
  },
  {
   "cell_type": "code",
   "execution_count": 34,
   "metadata": {},
   "outputs": [],
   "source": [
    "num = [2, 3, 4, 5, 6, 7, 8, 9, 10]\n",
    "result1 = list(map(math.factorial,num)) #this will just apply the function and store the log value in the variable\n"
   ]
  },
  {
   "cell_type": "code",
   "execution_count": 35,
   "metadata": {},
   "outputs": [
    {
     "name": "stdout",
     "output_type": "stream",
     "text": [
      "[2, 6, 24, 120, 720, 5040, 40320, 362880, 3628800]\n"
     ]
    }
   ],
   "source": [
    "print(result1)\n"
   ]
  },
  {
   "cell_type": "markdown",
   "metadata": {},
   "source": [
    "zip function"
   ]
  },
  {
   "cell_type": "code",
   "execution_count": 49,
   "metadata": {},
   "outputs": [
    {
     "name": "stdout",
     "output_type": "stream",
     "text": [
      "<zip object at 0x0000022468B11F00>\n",
      "<class 'zip'>\n",
      "1 a A\n",
      "2 b B\n",
      "3 c C\n",
      "4 d D\n",
      "5 e E\n"
     ]
    }
   ],
   "source": [
    "i = [1, 2, 3, 4, 5]\n",
    "j = ['a', 'b', 'c', 'd', 'e']\n",
    "k = ['A', 'B', 'C', 'D', 'E']\n",
    "result2 = zip(i,j, k)\n",
    "print(result2)\n",
    "print(type(result2))\n",
    "for x,y,z in result2:\n",
    "    print(x, y, z)"
   ]
  },
  {
   "cell_type": "markdown",
   "metadata": {},
   "source": [
    "FILE HANDLING"
   ]
  },
  {
   "cell_type": "code",
   "execution_count": 50,
   "metadata": {},
   "outputs": [],
   "source": [
    "import os"
   ]
  },
  {
   "cell_type": "code",
   "execution_count": 69,
   "metadata": {},
   "outputs": [],
   "source": [
    "# print(os.getcwd())\n",
    "# print(os.listdir())\n",
    "f = open(\"E:/New folder/Python/sample.txt\",'r')"
   ]
  },
  {
   "cell_type": "code",
   "execution_count": 64,
   "metadata": {},
   "outputs": [
    {
     "name": "stdout",
     "output_type": "stream",
     "text": [
      "Apple Juice\n",
      "\n",
      "banana\n",
      "\n",
      "Mango\n",
      "\n",
      "Peach\n",
      "\n",
      "Kiwi\n"
     ]
    }
   ],
   "source": [
    "for char in f:\n",
    "    print(char)"
   ]
  },
  {
   "cell_type": "code",
   "execution_count": 70,
   "metadata": {},
   "outputs": [
    {
     "name": "stdout",
     "output_type": "stream",
     "text": [
      "Apple Juice\n",
      "banana\n",
      "Mango\n",
      "Peach\n",
      "Kiwi"
     ]
    }
   ],
   "source": [
    "for char in f:\n",
    "    print(char, end = '')"
   ]
  },
  {
   "cell_type": "code",
   "execution_count": 73,
   "metadata": {},
   "outputs": [
    {
     "name": "stdout",
     "output_type": "stream",
     "text": [
      "Apple Juice\n",
      "\n"
     ]
    }
   ],
   "source": [
    "f = open(\"E:/New folder/Python/sample.txt\",'r')\n",
    "print(f.readline()) #will read the first line only"
   ]
  },
  {
   "cell_type": "code",
   "execution_count": 75,
   "metadata": {},
   "outputs": [
    {
     "name": "stdout",
     "output_type": "stream",
     "text": [
      "['Apple Juice\\n', 'banana\\n', 'Mango\\n', 'Peach\\n', 'Kiwi']\n"
     ]
    }
   ],
   "source": [
    "f = open(\"E:/New folder/Python/sample.txt\",'r')\n",
    "print(f.readlines())\n",
    "f.close()"
   ]
  },
  {
   "cell_type": "code",
   "execution_count": 77,
   "metadata": {},
   "outputs": [],
   "source": [
    "f = open(\"E:/New folder/Python/sample.txt\",'w')\n",
    "f.write(\"\\nHello, I have written in the file for the second time using write method\")\n",
    "f.close()"
   ]
  },
  {
   "cell_type": "code",
   "execution_count": 78,
   "metadata": {},
   "outputs": [
    {
     "name": "stdout",
     "output_type": "stream",
     "text": [
      "The current working directory is : e:\\New folder\\Python\\Session Codes\n"
     ]
    }
   ],
   "source": [
    "print(f\"The current working directory is : {os.getcwd()}\")"
   ]
  },
  {
   "cell_type": "code",
   "execution_count": 84,
   "metadata": {},
   "outputs": [
    {
     "name": "stdout",
     "output_type": "stream",
     "text": [
      "The current working directory is : e:\\New folder\\Python\\Session Codes\n",
      "Files in current working directory are: \n",
      "Example1.py\n",
      "se.ipynb\n",
      "Session 10-05-2022 1.ipynb\n",
      "Session 10-05-2022 2.ipynb\n",
      "Session 12-05-2022.ipynb\n",
      "Session 17-05-2022.ipynb\n",
      "Session 19-05-2022.ipynb\n"
     ]
    }
   ],
   "source": [
    "print(f\"The current working directory is : {os.getcwd()}\")\n",
    "#print(f\"The files in current working directory are : {os.listdir()}\")\n",
    "print(\"Files in current working directory are: \")\n",
    "for f in os.listdir():\n",
    "    print(f)"
   ]
  },
  {
   "cell_type": "markdown",
   "metadata": {},
   "source": [
    "creating a new subfolder"
   ]
  },
  {
   "cell_type": "code",
   "execution_count": 86,
   "metadata": {},
   "outputs": [],
   "source": [
    "os.mkdir(\"Sample Folder1\")"
   ]
  },
  {
   "cell_type": "markdown",
   "metadata": {},
   "source": [
    "renaming the files"
   ]
  },
  {
   "cell_type": "code",
   "execution_count": 91,
   "metadata": {},
   "outputs": [],
   "source": [
    "#os.rename('Example1.py', 'Not An example.py')\n",
    "#os.remove('Not An Example.py')\n",
    "#os.remove('se.ipynb')\n"
   ]
  }
 ],
 "metadata": {
  "interpreter": {
   "hash": "2c4a0e462d5eb47ccb02ab75c092febb222556232e160fc793b5c239a0fdd870"
  },
  "kernelspec": {
   "display_name": "Python 3.10.0 64-bit",
   "language": "python",
   "name": "python3"
  },
  "language_info": {
   "codemirror_mode": {
    "name": "ipython",
    "version": 3
   },
   "file_extension": ".py",
   "mimetype": "text/x-python",
   "name": "python",
   "nbconvert_exporter": "python",
   "pygments_lexer": "ipython3",
   "version": "3.10.0"
  },
  "orig_nbformat": 4
 },
 "nbformat": 4,
 "nbformat_minor": 2
}
