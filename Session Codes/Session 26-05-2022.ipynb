{
 "cells": [
  {
   "cell_type": "markdown",
   "metadata": {},
   "source": [
    "Exception Handling"
   ]
  },
  {
   "cell_type": "code",
   "execution_count": 2,
   "metadata": {},
   "outputs": [
    {
     "name": "stdout",
     "output_type": "stream",
     "text": [
      "The unit digit is 9\n",
      "Now breaking the flow of program\n"
     ]
    }
   ],
   "source": [
    "#run time errors not handled here\n",
    "num = int(input(\"Enter a number: \"))\n",
    "a = num % 10\n",
    "print(f\"The unit digit is {a}\")\n",
    "print(\"Now breaking the flow of program\")\n",
    "\n",
    "#print(f\"Here we are breaking the flow of the code {num / 0}\")\n",
    "#print(\"Not successfully executed\")"
   ]
  },
  {
   "cell_type": "code",
   "execution_count": null,
   "metadata": {},
   "outputs": [],
   "source": [
    "#Handling the run - time error"
   ]
  },
  {
   "cell_type": "markdown",
   "metadata": {},
   "source": [
    "Common Exceptions"
   ]
  },
  {
   "cell_type": "code",
   "execution_count": 9,
   "metadata": {},
   "outputs": [
    {
     "name": "stdout",
     "output_type": "stream",
     "text": [
      "33\n"
     ]
    }
   ],
   "source": [
    "#Zero Division Error\n",
    "#print(10 / 0)\n",
    "\n",
    "#NameError\n",
    "#print(var) since var is not defined anywhere in the code interpretor is not able to find it\n",
    "\n",
    "#IndentationError\n",
    "#   print(\"Hello\")\n",
    "\n",
    "#IOError\n",
    "#f = open(\"file.txt\", \"r\")\n",
    "\n",
    "#EOFErros\n",
    "#num1  = int(input(\"Enter Value 1: \"))\n",
    "#num2  = int(input(\"Enter Value 2: \")) #if you hit enter this will throw an EOFErrors\n",
    "#sum = num1 + num2\n",
    "#print(sum)"
   ]
  },
  {
   "cell_type": "markdown",
   "metadata": {},
   "source": [
    "Why Error Handling is needed?"
   ]
  },
  {
   "cell_type": "code",
   "execution_count": 13,
   "metadata": {},
   "outputs": [
    {
     "name": "stdout",
     "output_type": "stream",
     "text": [
      "0.8235294117647058\n"
     ]
    }
   ],
   "source": [
    "num1  = int(input(\"Enter Value 1: \"))\n",
    "num2  = int(input(\"Enter Value 2: \")) \n",
    "sum = num1 / num2 #if error is not handled here then program execution is effected\n",
    "print(sum)"
   ]
  },
  {
   "cell_type": "markdown",
   "metadata": {},
   "source": [
    "Handling the Errors"
   ]
  },
  {
   "cell_type": "code",
   "execution_count": 14,
   "metadata": {},
   "outputs": [
    {
     "name": "stdout",
     "output_type": "stream",
     "text": [
      "Can't Divide by zero re-enter your numbers again\n"
     ]
    }
   ],
   "source": [
    "#in except you can give multiple exceptions by giving multiple except statement \n",
    "#Note - you don't have to write try statement multiple time\n",
    "try:\n",
    "    num1  = int(input(\"Enter Value 1: \"))\n",
    "    num2  = int(input(\"Enter Value 2: \")) \n",
    "    sum = num1 / num2 \n",
    "    print(sum)\n",
    "\n",
    "except:\n",
    "    print(\"Can't Divide by zero re-enter your numbers again\")"
   ]
  },
  {
   "cell_type": "markdown",
   "metadata": {},
   "source": [
    "Use Else statement with try and except"
   ]
  },
  {
   "cell_type": "code",
   "execution_count": 18,
   "metadata": {},
   "outputs": [
    {
     "name": "stdout",
     "output_type": "stream",
     "text": [
      "2.8333333333333335\n",
      "Woo! No exception occured\n"
     ]
    }
   ],
   "source": [
    "#in except you can give multiple exceptions by giving multiple except statement \n",
    "#Note - you don't have to write try statement multiple time\n",
    "try:\n",
    "    num1  = int(input(\"Enter Value 1: \"))\n",
    "    num2  = int(input(\"Enter Value 2: \")) \n",
    "    sum = num1 / num2 \n",
    "    print(sum)\n",
    "\n",
    "except:\n",
    "    print(\"Can't Divide by zero re-enter your numbers again\")\n",
    "else: #this is going to be executed if no exception occurs\n",
    "    print(\"Woo! No exception occured\")"
   ]
  },
  {
   "cell_type": "markdown",
   "metadata": {},
   "source": [
    "To print what kind of error occured"
   ]
  },
  {
   "cell_type": "code",
   "execution_count": 21,
   "metadata": {},
   "outputs": [
    {
     "name": "stdout",
     "output_type": "stream",
     "text": [
      "0.9473684210526315\n",
      "Woo! No exception occured\n"
     ]
    }
   ],
   "source": [
    "#in except you can give multiple exceptions by giving multiple except statement \n",
    "#Note - you don't have to write try statement multiple time\n",
    "try:\n",
    "    num1  = int(input(\"Enter Value 1: \"))\n",
    "    num2  = int(input(\"Enter Value 2: \")) \n",
    "    sum = num1 / num2 \n",
    "    \n",
    "\n",
    "except Exception as e:\n",
    "    print(f\"Following error occured- {e}\")\n",
    "else: #this is going to be executed if no exception occurs\n",
    "    print(sum)\n",
    "    print(\"Woo! No exception occured\")"
   ]
  },
  {
   "cell_type": "markdown",
   "metadata": {},
   "source": [
    "Declaring Multiple Exceptions"
   ]
  },
  {
   "cell_type": "code",
   "execution_count": 23,
   "metadata": {},
   "outputs": [
    {
     "name": "stdout",
     "output_type": "stream",
     "text": [
      "Some Error Occured\n"
     ]
    }
   ],
   "source": [
    "try:\n",
    "    f = open(\"file.txt\",\"r\")\n",
    "except (ArithmeticError, IOError):\n",
    "    print(\"Some Error Occured\")\n",
    "else:\n",
    "    print(\"Successfully Executed\")"
   ]
  },
  {
   "cell_type": "markdown",
   "metadata": {},
   "source": [
    "try ..... finally - finally provides a gurantee of execution"
   ]
  },
  {
   "cell_type": "code",
   "execution_count": 31,
   "metadata": {},
   "outputs": [
    {
     "name": "stdout",
     "output_type": "stream",
     "text": [
      "Hey! you are in finally block\n",
      "Error\n"
     ]
    }
   ],
   "source": [
    "try:\n",
    "    a = 10 / 2\n",
    "    # fileptr = open(\"file1.txt\", \"r\")\n",
    "    try:\n",
    "        b = 10 / 0\n",
    "    finally:\n",
    "        print(\"Hey! you are in finally block\")\n",
    "except:\n",
    "    print(\"Error\")\n"
   ]
  },
  {
   "cell_type": "markdown",
   "metadata": {},
   "source": [
    "Raising the errors"
   ]
  },
  {
   "cell_type": "code",
   "execution_count": 36,
   "metadata": {},
   "outputs": [
    {
     "name": "stdout",
     "output_type": "stream",
     "text": [
      "Error is been raised by the system\n",
      "\n"
     ]
    }
   ],
   "source": [
    "try:\n",
    "    age = int(input(\"Enter your age : \"))\n",
    "    if( age < 18):\n",
    "        raise ArithmeticError\n",
    "    else:\n",
    "        print(\"The age is valid\")\n",
    "except ArithmeticError as e:\n",
    "    print(\"Error is been raised by the system\")\n",
    "    print(e)"
   ]
  },
  {
   "cell_type": "markdown",
   "metadata": {},
   "source": [
    "Creating Custom Errors"
   ]
  },
  {
   "cell_type": "code",
   "execution_count": 37,
   "metadata": {},
   "outputs": [
    {
     "name": "stdout",
     "output_type": "stream",
     "text": [
      "Received Error 2000\n"
     ]
    }
   ],
   "source": [
    "class ErrorInCode(Exception):\n",
    "    def __init__ (self, data):\n",
    "        self.data = data\n",
    "    def __str__ (self):\n",
    "        return repr(self.data)\n",
    "\n",
    "try:\n",
    "    raise ErrorInCode(2000)\n",
    "\n",
    "except ErrorInCode as e:\n",
    "    print(\"Received Error\", e.data)"
   ]
  },
  {
   "cell_type": "markdown",
   "metadata": {},
   "source": [
    "LAMBDA Function"
   ]
  },
  {
   "cell_type": "code",
   "execution_count": 40,
   "metadata": {},
   "outputs": [
    {
     "name": "stdout",
     "output_type": "stream",
     "text": [
      "<function <lambda> at 0x0000011F9D85A680>\n",
      "After adding 10  to 20 we get: 30\n"
     ]
    }
   ],
   "source": [
    "x  = lambda x : x + 10 #here the x left to = sign is the function in which we will pass on some values and it'll store that in x\n",
    "print(x)\n",
    "print(f\"After adding 10  to 20 we get: {x(20)}\")"
   ]
  },
  {
   "cell_type": "code",
   "execution_count": 42,
   "metadata": {},
   "outputs": [
    {
     "name": "stdout",
     "output_type": "stream",
     "text": [
      "Sum: 30\n"
     ]
    }
   ],
   "source": [
    "#same way to write the above statement\n",
    "def x(a):\n",
    "    return a+10\n",
    "print(f\"Sum: {x(20)}\")"
   ]
  },
  {
   "cell_type": "code",
   "execution_count": 43,
   "metadata": {},
   "outputs": [
    {
     "name": "stdout",
     "output_type": "stream",
     "text": [
      "The multiplication of 10 and 20 is: 200\n"
     ]
    }
   ],
   "source": [
    "#Having Multiple arguments to Lambda Function\n",
    "x  = lambda a,b : a * b\n",
    "print(f\"The multiplication of 10 and 20 is: {x(10,20)}\")"
   ]
  },
  {
   "cell_type": "markdown",
   "metadata": {},
   "source": [
    "Map and Lambda Function"
   ]
  },
  {
   "cell_type": "code",
   "execution_count": 46,
   "metadata": {},
   "outputs": [
    {
     "name": "stdout",
     "output_type": "stream",
     "text": [
      "[1, 4, 9, 16, 25, 36, 49, 64, 81, 100]\n"
     ]
    }
   ],
   "source": [
    "list1 = [1, 2, 3, 4, 5, 6, 7, 8, 9, 10]\n",
    "square_list = list(map(lambda x : x ** 2, list1)) #this will apply lambda function in my list1\n",
    "print(square_list)"
   ]
  },
  {
   "cell_type": "markdown",
   "metadata": {},
   "source": [
    "Filter function with lambda"
   ]
  },
  {
   "cell_type": "code",
   "execution_count": 53,
   "metadata": {},
   "outputs": [
    {
     "name": "stdout",
     "output_type": "stream",
     "text": [
      "(15, 30, 45, 60, 75, 90, 105, 120, 135, 150)\n"
     ]
    }
   ],
   "source": [
    "list1 = [a for a in range(1, 151)]\n",
    "divBy15 = tuple(filter(lambda x : (x % 3 == 0) and (x % 5 == 0), list1))\n",
    "print(divBy15)"
   ]
  },
  {
   "cell_type": "code",
   "execution_count": 1,
   "metadata": {},
   "outputs": [
    {
     "name": "stdout",
     "output_type": "stream",
     "text": [
      "[1, 3, 5, 7, 9, 11, 13, 15, 17, 19, 21, 23, 25, 27, 29, 31, 33, 35, 37, 39, 41, 43, 45, 47, 49, 51, 53, 55, 57, 59, 61, 63, 65, 67, 69, 71, 73, 75, 77, 79, 81, 83, 85, 87, 89, 91, 93, 95, 97, 99]\n"
     ]
    }
   ],
   "source": [
    "list2 = [a for a in range(1, 101)]\n",
    "oddlist = list(filter(lambda x : (x % 2 != 0), list2))\n",
    "print(oddlist)"
   ]
  },
  {
   "cell_type": "markdown",
   "metadata": {},
   "source": [
    "Sorting using Lambda"
   ]
  },
  {
   "cell_type": "code",
   "execution_count": 7,
   "metadata": {},
   "outputs": [
    {
     "data": {
      "text/plain": [
       "['id1r', 'id2a', 'id3m', 'id4o', 'id5i', 'id5z']"
      ]
     },
     "execution_count": 7,
     "metadata": {},
     "output_type": "execute_result"
    }
   ],
   "source": [
    "ids = ['id5i', 'id1r', 'id2a', 'id5z', 'id4o', 'id3m']\n",
    "result = sorted(ids, key = lambda x : int(x[2]))\n",
    "result"
   ]
  },
  {
   "cell_type": "code",
   "execution_count": 8,
   "metadata": {},
   "outputs": [
    {
     "data": {
      "text/plain": [
       "['id5i', 'id5z', 'id4o', 'id3m', 'id2a', 'id1r']"
      ]
     },
     "execution_count": 8,
     "metadata": {},
     "output_type": "execute_result"
    }
   ],
   "source": [
    "#reverse sorting\n",
    "ids = ['id5i', 'id1r', 'id2a', 'id5z', 'id4o', 'id3m']\n",
    "result = sorted(ids, key = lambda x : int(x[2]) , reverse = True)\n",
    "result"
   ]
  },
  {
   "cell_type": "markdown",
   "metadata": {},
   "source": [
    "reduce()"
   ]
  },
  {
   "cell_type": "code",
   "execution_count": 9,
   "metadata": {},
   "outputs": [],
   "source": [
    "from functools import reduce"
   ]
  },
  {
   "cell_type": "code",
   "execution_count": 12,
   "metadata": {},
   "outputs": [
    {
     "name": "stdout",
     "output_type": "stream",
     "text": [
      "80640000\n"
     ]
    }
   ],
   "source": [
    "list1 = [1, 3, 4, 6, 7, 8, 100, 200]\n",
    "sum = reduce((lambda x, y : x * y), list1)\n",
    "print(sum)"
   ]
  },
  {
   "cell_type": "code",
   "execution_count": 14,
   "metadata": {},
   "outputs": [],
   "source": [
    "import pandas as pd"
   ]
  },
  {
   "cell_type": "code",
   "execution_count": 16,
   "metadata": {},
   "outputs": [
    {
     "name": "stdout",
     "output_type": "stream",
     "text": [
      "     id client_name product  count  price  discount\n",
      "0  0100         Ann     pen     12    2.0      0.00\n",
      "1  0200         Bob   paper    300    5.0      0.10\n",
      "2  0100         Ann  folder      5    3.5      0.15\n",
      "3  0200         Bob  pencil     12    2.3      0.10\n",
      "4  0300     Charles    tray     10    8.2      0.12\n"
     ]
    }
   ],
   "source": [
    "data = {'id': ['0100', '0200', '0100', '0200', '0300'], \n",
    "\t'client_name': ['Ann', 'Bob', 'Ann', 'Bob', 'Charles'], \n",
    "\t'product': ['pen', 'paper', 'folder', 'pencil', 'tray'], \n",
    "\t'count': [12, 300, 5, 12, 10], \n",
    "\t'price': [2.00, 5.00, 3.50, 2.30, 8.20], \n",
    "\t'discount': [0.0, 0.1, 0.15, 0.1, 0.12]} \n",
    "df = pd.DataFrame(data)\n",
    "print(df) \n"
   ]
  },
  {
   "cell_type": "code",
   "execution_count": 17,
   "metadata": {},
   "outputs": [
    {
     "name": "stdout",
     "output_type": "stream",
     "text": [
      "             Total Pre discount  Discount Applied\n",
      "client_name                                      \n",
      "Ann                        41.5             2.625\n",
      "Bob                      1527.6           152.760\n",
      "Charles                    82.0             9.840\n"
     ]
    }
   ],
   "source": [
    "summary = df.groupby('client_name').apply(lambda x : \n",
    "                                pd.Series({\n",
    "                                    'Total Pre discount': (x['price']*x['count']).sum(), \n",
    "                                    'Discount Applied':(x['price']*x['count']*x['discount']).sum()}))\n",
    "print(summary)"
   ]
  },
  {
   "cell_type": "markdown",
   "metadata": {},
   "source": [
    "Conditional Statement with lambda"
   ]
  },
  {
   "cell_type": "code",
   "execution_count": 18,
   "metadata": {},
   "outputs": [
    {
     "data": {
      "text/plain": [
       "50000"
      ]
     },
     "execution_count": 18,
     "metadata": {},
     "output_type": "execute_result"
    }
   ],
   "source": [
    "def cl():\n",
    "    t = 250\n",
    "    if(t > 200):\n",
    "        rate = 200 * t\n",
    "    else:\n",
    "        rate = 400 * t\n",
    "    return(rate)\n",
    "\n",
    "cl()\n"
   ]
  },
  {
   "cell_type": "code",
   "execution_count": 22,
   "metadata": {},
   "outputs": [
    {
     "data": {
      "text/plain": [
       "<function __main__.<lambda>(t)>"
      ]
     },
     "execution_count": 22,
     "metadata": {},
     "output_type": "execute_result"
    }
   ],
   "source": [
    "#writing the above code using lambda function\n",
    "rate = lambda t : 200 * t if t > 200 else 400 * t\n",
    "rate"
   ]
  },
  {
   "cell_type": "markdown",
   "metadata": {},
   "source": [
    "Filtering Dictionary"
   ]
  },
  {
   "cell_type": "code",
   "execution_count": 26,
   "metadata": {},
   "outputs": [
    {
     "name": "stdout",
     "output_type": "stream",
     "text": [
      "['my-name']\n"
     ]
    }
   ],
   "source": [
    "l = [{'abc': 'def'}, {'ghi': 'jul'}, {'Name': 'my-name'}]\n",
    "#The following produces a list of dictionaries that have the key 'Name': \n",
    "filtered = list(filter(lambda x : x.get('Name'), l))\n",
    "#From here, you can retrieve the name values for all items in the list:\n",
    "values = [x['Name'] for x in filtered]\n",
    "print(values)"
   ]
  },
  {
   "cell_type": "code",
   "execution_count": 24,
   "metadata": {},
   "outputs": [
    {
     "data": {
      "text/plain": [
       "[{'Name': 'my-name'}]"
      ]
     },
     "execution_count": 24,
     "metadata": {},
     "output_type": "execute_result"
    }
   ],
   "source": []
  }
 ],
 "metadata": {
  "interpreter": {
   "hash": "2c4a0e462d5eb47ccb02ab75c092febb222556232e160fc793b5c239a0fdd870"
  },
  "kernelspec": {
   "display_name": "Python 3.10.0 64-bit",
   "language": "python",
   "name": "python3"
  },
  "language_info": {
   "codemirror_mode": {
    "name": "ipython",
    "version": 3
   },
   "file_extension": ".py",
   "mimetype": "text/x-python",
   "name": "python",
   "nbconvert_exporter": "python",
   "pygments_lexer": "ipython3",
   "version": "3.10.0"
  },
  "orig_nbformat": 4
 },
 "nbformat": 4,
 "nbformat_minor": 2
}
