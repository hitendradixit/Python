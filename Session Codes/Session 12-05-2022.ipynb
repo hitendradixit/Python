{
 "cells": [
  {
   "cell_type": "markdown",
   "metadata": {},
   "source": [
    "for LOOP"
   ]
  },
  {
   "cell_type": "code",
   "execution_count": 3,
   "metadata": {},
   "outputs": [
    {
     "name": "stdout",
     "output_type": "stream",
     "text": [
      "0\n",
      "1\n",
      "2\n",
      "3\n",
      "4\n"
     ]
    }
   ],
   "source": [
    "for i in range(5): #starts from 0 and goes till n-1\n",
    "    print(i)"
   ]
  },
  {
   "cell_type": "code",
   "execution_count": 6,
   "metadata": {},
   "outputs": [
    {
     "name": "stdout",
     "output_type": "stream",
     "text": [
      "The square of first 2 natural numbers is- \n",
      "The square of 1 = 1\n",
      "The square of 2 = 4\n"
     ]
    }
   ],
   "source": [
    "#print square of first n nautral numbers\n",
    "n = int(input(\"Enter the range of numbers you want: \"))\n",
    "print(f\"The square of first {n} natural numbers is- \")\n",
    "for i in range (n):\n",
    "    j = i + 1\n",
    "    print(f\"The square of {j} = {j*j}\")\n",
    "    "
   ]
  },
  {
   "cell_type": "markdown",
   "metadata": {},
   "source": [
    "while LOOP"
   ]
  },
  {
   "cell_type": "code",
   "execution_count": 2,
   "metadata": {},
   "outputs": [
    {
     "name": "stdout",
     "output_type": "stream",
     "text": [
      "The square of first 2 natural numbers is- \n",
      "The square of 1 = 1\n",
      "The square of 2 = 4\n"
     ]
    }
   ],
   "source": [
    "#print square of first n nautral numbers through while loop\n",
    "n = int(input(\"Enter the range of numbers you want: \"))\n",
    "print(f\"The square of first {n} natural numbers is- \")\n",
    "i = 1 #initialization\n",
    "while ( i <= n): #condition checking\n",
    "    #start of statement\n",
    "    print(f\"The square of {i} = {i*i}\")\n",
    "    i += 1 #updating the value of i"
   ]
  },
  {
   "cell_type": "code",
   "execution_count": 10,
   "metadata": {},
   "outputs": [
    {
     "name": "stdout",
     "output_type": "stream",
     "text": [
      "The sum of digits of 58887421 is 43\n"
     ]
    }
   ],
   "source": [
    "#print the sum of digits in a number i.e, 536 => 5 + 3 + 6 = 14\n",
    "n = int(input(\"Enter a number: \"))\n",
    "sum = 0\n",
    "n1 = n\n",
    "while (n1 > 0):\n",
    "    a = n1 % 10\n",
    "    sum += a\n",
    "    n1 //= 10\n",
    "    #print(f\"The digit taken out for sum is = {a}\")\n",
    "    #print(f\"The remaining digits in the number  = {n1}\")\n",
    "    #print(f\"The sum of digits so far is = {sum}\")\n",
    "\n",
    "print(f\"The sum of digits of {n} is {sum}\")"
   ]
  },
  {
   "cell_type": "markdown",
   "metadata": {},
   "source": [
    "break and continue statement"
   ]
  },
  {
   "cell_type": "code",
   "execution_count": 19,
   "metadata": {},
   "outputs": [
    {
     "name": "stdout",
     "output_type": "stream",
     "text": [
      "The number 5 < 50\n"
     ]
    }
   ],
   "source": [
    "n = int(input(\"Enter a number: \"))\n",
    "for i in range (50):\n",
    "    if(i == n):\n",
    "        print(f\"The number {n} < 50\")\n",
    "        break #this will break the loop as soon as the condition matches up\n",
    "    #print(i)\n",
    "else:\n",
    "    print(f\"The number {n} >= 50\") #if loop doesn't breaks or in other words the loop completes then this statement will get executed"
   ]
  },
  {
   "cell_type": "code",
   "execution_count": 22,
   "metadata": {},
   "outputs": [
    {
     "name": "stdout",
     "output_type": "stream",
     "text": [
      "0\n",
      "1\n",
      "Skipping this statement because condition matches up\n",
      "3\n",
      "4\n",
      "5\n",
      "6\n",
      "7\n",
      "8\n",
      "9\n"
     ]
    }
   ],
   "source": [
    "n = int(input(\"Enter a number: \"))\n",
    "for i in range (10):\n",
    "    if(i == n):\n",
    "        print(f\"Skipping this statement because condition matches up\")\n",
    "        continue #this will skip this value as soon as the condition matches up\n",
    "    print(i)\n"
   ]
  },
  {
   "cell_type": "markdown",
   "metadata": {},
   "source": [
    "STRINGS"
   ]
  },
  {
   "cell_type": "code",
   "execution_count": 24,
   "metadata": {},
   "outputs": [
    {
     "name": "stdout",
     "output_type": "stream",
     "text": [
      "Hello\n"
     ]
    }
   ],
   "source": [
    "x = 'Hello'\n",
    "print(x)"
   ]
  },
  {
   "cell_type": "code",
   "execution_count": 25,
   "metadata": {},
   "outputs": [
    {
     "name": "stdout",
     "output_type": "stream",
     "text": [
      "Adam said, 'Hello How are you?'\n"
     ]
    }
   ],
   "source": [
    "#print Adam said, 'Hello How are you?'\n",
    "x = \"Adam said, 'Hello How are you?'\"\n",
    "print(x)"
   ]
  },
  {
   "cell_type": "code",
   "execution_count": 26,
   "metadata": {},
   "outputs": [
    {
     "name": "stdout",
     "output_type": "stream",
     "text": [
      "Adam loves to eat \"Mango\"\n"
     ]
    }
   ],
   "source": [
    "#print Adam loves to eat \"Mango\"\n",
    "x = 'Adam loves to eat \"Mango\"'\n",
    "print(x)"
   ]
  },
  {
   "cell_type": "code",
   "execution_count": 27,
   "metadata": {},
   "outputs": [
    {
     "name": "stdout",
     "output_type": "stream",
     "text": [
      " Adam said, 'I love to eat \"Mango\"' \n"
     ]
    }
   ],
   "source": [
    "#print Adam said, 'I love to eat \"Mango\"'\n",
    "x = ''' Adam said, 'I love to eat \"Mango\"' '''\n",
    "print(x)"
   ]
  },
  {
   "cell_type": "code",
   "execution_count": 30,
   "metadata": {},
   "outputs": [
    {
     "name": "stdout",
     "output_type": "stream",
     "text": [
      "Adam said, \n",
      "        'Hello How are you?'\n"
     ]
    }
   ],
   "source": [
    "#print Adam said, \n",
    "            #'How are you?'\n",
    "x = \"\"\"Adam said, \n",
    "        'Hello How are you?'\"\"\"\n",
    "print(x)"
   ]
  },
  {
   "cell_type": "markdown",
   "metadata": {},
   "source": [
    "Traversing, Manipulation and slicing in string"
   ]
  },
  {
   "cell_type": "code",
   "execution_count": 33,
   "metadata": {},
   "outputs": [
    {
     "name": "stdout",
     "output_type": "stream",
     "text": [
      "M\n",
      "a\n",
      "n\n",
      "g\n",
      "o\n"
     ]
    }
   ],
   "source": [
    "\n",
    "y = \"Mango\"\n",
    "for i in y:\n",
    "    print(i)"
   ]
  },
  {
   "cell_type": "code",
   "execution_count": 41,
   "metadata": {},
   "outputs": [
    {
     "name": "stdout",
     "output_type": "stream",
     "text": [
      "I_li\n",
      "e_to_eat_Mango_but_don't_prefer_eating_Tomato\n",
      "ke_to_\n",
      "I_like_to_eat_Mango_but_don't_prefer_eating_Toma\n",
      "ke_to_eat_Mango_but_don't_prefer_eating_Toma\n"
     ]
    }
   ],
   "source": [
    "\n",
    "x = \"I_like_to_eat_Mango_but_don't_prefer_eating_Tomato\"\n",
    "#if you give nothing before colon in slicing it'll take 0 as the starting index\n",
    "print(x[:4]) #this will give first 4 letters\n",
    "print(x[5:]) #this will give letters from 5th position\n",
    "print(x[4:10]) #this will print sentence between 4 and 10 letters\n",
    "print(x[:-2]) #this will print till 2nd last letter\n",
    "print(x[4:-2]) #this will print from 4th letter to 2nd last letter\n"
   ]
  },
  {
   "cell_type": "code",
   "execution_count": 65,
   "metadata": {},
   "outputs": [
    {
     "name": "stdout",
     "output_type": "stream",
     "text": [
      "['Apple', ' Banana', ' Mango', ' Orange']\n",
      "Hello how are          you             car\n"
     ]
    }
   ],
   "source": [
    "y = \"Apple, Banana, Mango, Orange\"\n",
    "#y[0] = 'B' #strings are immutable i.e., we can't manipulate the letters in the string\n",
    "#y.find('a') #-1 means the element is not present in the list/tuple/set/string/dictionary\n",
    "#y.replace('m','M')\n",
    "print(y.split(',')) #by default it splits on the basis of space\n",
    "x = '        Hello how are          you             '\n",
    "z = \"car\"\n",
    "print(x.strip() + z) #strip removes extra spaces from the word from left and right"
   ]
  },
  {
   "cell_type": "code",
   "execution_count": 67,
   "metadata": {},
   "outputs": [
    {
     "name": "stdout",
     "output_type": "stream",
     "text": [
      "mango mango mango \n"
     ]
    }
   ],
   "source": [
    "x = \"mango \"\n",
    "print(x * 3)"
   ]
  }
 ],
 "metadata": {
  "interpreter": {
   "hash": "2c4a0e462d5eb47ccb02ab75c092febb222556232e160fc793b5c239a0fdd870"
  },
  "kernelspec": {
   "display_name": "Python 3.10.0 64-bit",
   "language": "python",
   "name": "python3"
  },
  "language_info": {
   "codemirror_mode": {
    "name": "ipython",
    "version": 3
   },
   "file_extension": ".py",
   "mimetype": "text/x-python",
   "name": "python",
   "nbconvert_exporter": "python",
   "pygments_lexer": "ipython3",
   "version": "3.10.0"
  },
  "orig_nbformat": 4
 },
 "nbformat": 4,
 "nbformat_minor": 2
}
