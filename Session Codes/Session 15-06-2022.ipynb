{
 "cells": [
  {
   "cell_type": "code",
   "execution_count": 2,
   "metadata": {},
   "outputs": [
    {
     "name": "stdout",
     "output_type": "stream",
     "text": [
      "L\n",
      "e\n",
      "n\n",
      "o\n",
      "v\n",
      "o\n",
      "----------------\n",
      "2\n",
      "3\n",
      "4\n"
     ]
    }
   ],
   "source": [
    "for i in \"Lenovo\":\n",
    "    print(i)\n",
    "print('----------------')\n",
    "for i in [2, 3, 4]:\n",
    "    print(i)"
   ]
  },
  {
   "cell_type": "code",
   "execution_count": 11,
   "metadata": {},
   "outputs": [
    {
     "name": "stdout",
     "output_type": "stream",
     "text": [
      "<class 'list_iterator'>\n",
      "1\n"
     ]
    }
   ],
   "source": [
    "num_iter = iter([1, 2, 3, 4, 5])\n",
    "print(type(num_iter))\n",
    "print(next(num_iter))"
   ]
  },
  {
   "cell_type": "code",
   "execution_count": 15,
   "metadata": {},
   "outputs": [],
   "source": [
    "import itertools"
   ]
  },
  {
   "cell_type": "code",
   "execution_count": 16,
   "metadata": {},
   "outputs": [
    {
     "name": "stdout",
     "output_type": "stream",
     "text": [
      "5 10 15 20 25 30 35 "
     ]
    }
   ],
   "source": [
    "for i in itertools.count(5, 5):\n",
    "    if i == 40:\n",
    "        break\n",
    "    else:\n",
    "        print(i, end = \" \")"
   ]
  },
  {
   "cell_type": "code",
   "execution_count": 18,
   "metadata": {},
   "outputs": [],
   "source": [
    "lst = ['Python', 'Java', 'C++']\n",
    "iterators = itertools.cycle(lst)\n"
   ]
  },
  {
   "cell_type": "code",
   "execution_count": 55,
   "metadata": {},
   "outputs": [
    {
     "data": {
      "text/plain": [
       "'C++'"
      ]
     },
     "execution_count": 55,
     "metadata": {},
     "output_type": "execute_result"
    }
   ],
   "source": [
    "next(iterators)"
   ]
  },
  {
   "cell_type": "code",
   "execution_count": 59,
   "metadata": {},
   "outputs": [
    {
     "name": "stdout",
     "output_type": "stream",
     "text": [
      "Java C++ Python Java C++ Python "
     ]
    }
   ],
   "source": [
    "for i in range(6):\n",
    "    print(next(iterators), end = \" \")"
   ]
  },
  {
   "cell_type": "code",
   "execution_count": 61,
   "metadata": {},
   "outputs": [
    {
     "name": "stdout",
     "output_type": "stream",
     "text": [
      "Repeating the value: \n",
      "[10, 10]\n"
     ]
    }
   ],
   "source": [
    "print(\"Repeating the value: \")\n",
    "print(list(itertools.repeat(10, 2)))"
   ]
  },
  {
   "cell_type": "code",
   "execution_count": 62,
   "metadata": {},
   "outputs": [
    {
     "name": "stdout",
     "output_type": "stream",
     "text": [
      "1\n",
      "2\n",
      "3\n",
      "4\n",
      "5\n"
     ]
    }
   ],
   "source": [
    "num_iter = iter([1, 2, 3, 4, 5])\n",
    "for ele in num_iter:\n",
    "    print(ele)"
   ]
  },
  {
   "cell_type": "code",
   "execution_count": 64,
   "metadata": {},
   "outputs": [],
   "source": [
    "#'Python'.__next__() #this will throw an error"
   ]
  },
  {
   "cell_type": "code",
   "execution_count": 67,
   "metadata": {},
   "outputs": [
    {
     "name": "stdout",
     "output_type": "stream",
     "text": [
      "1\n",
      "2\n",
      "3\n",
      "----------\n",
      "1\n",
      "2\n",
      "3\n"
     ]
    }
   ],
   "source": [
    "num_iterable = [1, 2, 3]\n",
    "for ele in num_iterable:\n",
    "    print(ele)\n",
    "print('----------')\n",
    "for ele in num_iterable:\n",
    "    print(ele)"
   ]
  },
  {
   "cell_type": "code",
   "execution_count": 68,
   "metadata": {},
   "outputs": [
    {
     "name": "stdout",
     "output_type": "stream",
     "text": [
      "1\n",
      "2\n",
      "3\n",
      "----------\n"
     ]
    }
   ],
   "source": [
    "num_iter = iter([1, 2, 3])\n",
    "for ele in num_iter:\n",
    "    print(ele)\n",
    "print('----------')\n",
    "for ele in num_iter:\n",
    "    print(ele)"
   ]
  },
  {
   "cell_type": "code",
   "execution_count": 72,
   "metadata": {},
   "outputs": [
    {
     "name": "stdout",
     "output_type": "stream",
     "text": [
      "1 2 3 4 5 \n",
      "---------------\n",
      "1 2 3 4 5 "
     ]
    }
   ],
   "source": [
    "#Both iterators and iterables can be iterated using for loop\n",
    "list_1 = [1, 2, 3, 4, 5]\n",
    "list_2 = iter(list_1)\n",
    "#iterating through iterable(list_1) using for loop\n",
    "for ele in list_1:\n",
    "    print(ele, end = \" \")\n",
    "print('\\n---------------')\n",
    "#iterating through iterator(list_2) using for loop\n",
    "for ele in list_2:\n",
    "    print(ele, end= \" \")"
   ]
  },
  {
   "cell_type": "code",
   "execution_count": 74,
   "metadata": {},
   "outputs": [
    {
     "name": "stdout",
     "output_type": "stream",
     "text": [
      "Functions inside iterators - \n",
      "['__class__', '__delattr__', '__dir__', '__doc__', '__eq__', '__format__', '__ge__', '__getattribute__', '__gt__', '__hash__', '__init__', '__init_subclass__', '__iter__', '__le__', '__length_hint__', '__lt__', '__ne__', '__new__', '__next__', '__reduce__', '__reduce_ex__', '__repr__', '__setattr__', '__setstate__', '__sizeof__', '__str__', '__subclasshook__']\n",
      "\n",
      "Functions inside iterables - \n",
      "['__add__', '__class__', '__class_getitem__', '__contains__', '__delattr__', '__delitem__', '__dir__', '__doc__', '__eq__', '__format__', '__ge__', '__getattribute__', '__getitem__', '__gt__', '__hash__', '__iadd__', '__imul__', '__init__', '__init_subclass__', '__iter__', '__le__', '__len__', '__lt__', '__mul__', '__ne__', '__new__', '__reduce__', '__reduce_ex__', '__repr__', '__reversed__', '__rmul__', '__setattr__', '__setitem__', '__sizeof__', '__str__', '__subclasshook__', 'append', 'clear', 'copy', 'count', 'extend', 'index', 'insert', 'pop', 'remove', 'reverse', 'sort']\n"
     ]
    }
   ],
   "source": [
    "#Iterators support both iter() and next() but iterables only support iter()\n",
    "print(\"Functions inside iterators - \")\n",
    "print(dir(list_2))\n",
    "\n",
    "print(\"\\nFunctions inside iterables - \")\n",
    "print(dir(list_1))"
   ]
  },
  {
   "cell_type": "code",
   "execution_count": 81,
   "metadata": {},
   "outputs": [
    {
     "name": "stdout",
     "output_type": "stream",
     "text": [
      "<list_iterator object at 0x0000023C06605690>\n",
      "<list_iterator object at 0x0000023C06605690>\n",
      "True\n"
     ]
    }
   ],
   "source": [
    "#Iterators are also iterables\n",
    "list_1 = [1, 2, 3, 4, 5] #this is an iterable\n",
    "#returns an iterator\n",
    "list_2 = iter(list_1) #this is an iterator which is also an iterable\n",
    "print(list_2)\n",
    "\n",
    "#calling iter() on iterator\n",
    "list_3 = iter(list_2) #this is also an iterator which is also an iterable\n",
    "print(list_3)\n",
    "\n",
    "print(list_2 == list_3)"
   ]
  },
  {
   "cell_type": "code",
   "execution_count": 82,
   "metadata": {},
   "outputs": [],
   "source": [
    "import itertools"
   ]
  },
  {
   "cell_type": "code",
   "execution_count": 84,
   "metadata": {},
   "outputs": [
    {
     "name": "stdout",
     "output_type": "stream",
     "text": [
      "10 15 20 25 30 35 "
     ]
    }
   ],
   "source": [
    "for i in itertools.count(10, 5): #this will start counting from 10 and adds 5 to every iteration till infinity\n",
    "    if(i == 40):\n",
    "        break\n",
    "    else:\n",
    "        print(i, end = \" \")"
   ]
  },
  {
   "cell_type": "code",
   "execution_count": 88,
   "metadata": {},
   "outputs": [
    {
     "name": "stdout",
     "output_type": "stream",
     "text": [
      "[20, 20, 20, 20, 20]\n"
     ]
    }
   ],
   "source": [
    "#this will repeat 20 for 5 times\n",
    "print(list(itertools.repeat(20, 5)))"
   ]
  },
  {
   "cell_type": "code",
   "execution_count": 89,
   "metadata": {},
   "outputs": [],
   "source": [
    "lst = [\"Lenovo\", \"MSI\", \"Dell\"]\n",
    "iter = itertools.cycle(lst)"
   ]
  },
  {
   "cell_type": "code",
   "execution_count": 96,
   "metadata": {},
   "outputs": [
    {
     "name": "stdout",
     "output_type": "stream",
     "text": [
      "Lenovo, MSI, Dell, Lenovo, MSI, "
     ]
    }
   ],
   "source": [
    "for i in range(5):\n",
    "    print(next(iter), end = \", \")"
   ]
  }
 ],
 "metadata": {
  "kernelspec": {
   "display_name": "Python 3.10.0 64-bit",
   "language": "python",
   "name": "python3"
  },
  "language_info": {
   "codemirror_mode": {
    "name": "ipython",
    "version": 3
   },
   "file_extension": ".py",
   "mimetype": "text/x-python",
   "name": "python",
   "nbconvert_exporter": "python",
   "pygments_lexer": "ipython3",
   "version": "3.10.0"
  },
  "orig_nbformat": 4,
  "vscode": {
   "interpreter": {
    "hash": "2c4a0e462d5eb47ccb02ab75c092febb222556232e160fc793b5c239a0fdd870"
   }
  }
 },
 "nbformat": 4,
 "nbformat_minor": 2
}
