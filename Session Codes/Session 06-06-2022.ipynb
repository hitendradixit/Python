{
 "cells": [
  {
   "cell_type": "code",
   "execution_count": null,
   "metadata": {},
   "outputs": [],
   "source": [
    "def func1(msg):\n",
    "    print(msg)\n",
    "\n",
    "func1(\"Hello\")\n",
    "func2 = func1\n",
    "func2(\"Hi\")"
   ]
  },
  {
   "cell_type": "code",
   "execution_count": null,
   "metadata": {},
   "outputs": [],
   "source": [
    "#Inner Function\n",
    "#a function inside a function is known as inner function\n",
    "def func():\n",
    "    print(\"We are in first function\")\n",
    "    \n",
    "    def func1():\n",
    "        print(\"This is first child/inner function\")\n",
    "    def func2():\n",
    "        print(\"This is second child/inner function\")\n",
    "    func1()\n",
    "    func2()\n",
    "func()"
   ]
  },
  {
   "cell_type": "markdown",
   "metadata": {},
   "source": [
    "Higher order function (HOF)\n",
    "1. Functions that accept other functions as an argument we call them HOF"
   ]
  },
  {
   "cell_type": "code",
   "execution_count": null,
   "metadata": {},
   "outputs": [],
   "source": [
    "def add(x):\n",
    "    return x + 1\n",
    "def sub(x):\n",
    "    return x - 1\n",
    "def operator(func, x):\n",
    "    temp = func(x)\n",
    "    return temp\n",
    "\n",
    "print(operator(add, 10))\n",
    "print(operator(sub, 20))"
   ]
  },
  {
   "cell_type": "code",
   "execution_count": null,
   "metadata": {},
   "outputs": [],
   "source": [
    "#A function returning another function\n",
    "def hello():\n",
    "    print(\"You are in Hello method\")\n",
    "    def hi():\n",
    "        print(\"You are in Hi method\")\n",
    "    return hi #returning a funtion here\n",
    "\n",
    "new = hello() #hi() will be stored in new object\n",
    "new()"
   ]
  },
  {
   "cell_type": "code",
   "execution_count": null,
   "metadata": {},
   "outputs": [],
   "source": [
    "def shout(text):\n",
    "    return text.upper()\n",
    "\n",
    "def slow(text):\n",
    "    return text.lower()\n",
    "\n",
    "def greet(func):\n",
    "    #storing the function in a variable\n",
    "    greeting = func(\"I am a function passed as an argument\")\n",
    "    print(greeting)\n",
    "\n",
    "greet(shout)\n",
    "greet(slow)"
   ]
  },
  {
   "cell_type": "code",
   "execution_count": null,
   "metadata": {},
   "outputs": [],
   "source": [
    "def create_add(x):\n",
    "    def add(y):\n",
    "        return x + y\n",
    "    return add\n",
    "\n",
    "add1 = create_add(15) #after passing on the value we are returning a function method and storing it in a variable add1\n",
    "print(type(add1))\n",
    "print(add1(10)) #here add1 will act as as function replica of add"
   ]
  },
  {
   "cell_type": "markdown",
   "metadata": {},
   "source": [
    "Decorator"
   ]
  },
  {
   "cell_type": "code",
   "execution_count": null,
   "metadata": {},
   "outputs": [],
   "source": [
    "#defining a decorator\n",
    "#step 2\n",
    "def hello_decorator(func):\n",
    "    #step6\n",
    "    def inner1(): #here inner1 is a wrapper function in which the argument is called\n",
    "        #step 3\n",
    "        print(\"Hello this is before function execution\") #step 7\n",
    "        #step 8\n",
    "        func() #calling the actual function now inside the wrapper function\n",
    "        #step 11 \n",
    "        print(\"This is after function execution\")\n",
    "    #step 4\n",
    "    return inner1\n",
    "\n",
    "#defining a function that is to called inside wrapper function\n",
    "#step 9\n",
    "def function_to_be_used():\n",
    "    #step 10\n",
    "    print(\"This is inside the function_to_be_used\")\n",
    "#passing the \"function_to_be_used\" inside the decorator to control the behaviour\n",
    "\n",
    "#step1\n",
    "function_to_be_used = hello_decorator(function_to_be_used)\n",
    "#step 5 and step 12\n",
    "function_to_be_used() #calling the function"
   ]
  },
  {
   "cell_type": "code",
   "execution_count": null,
   "metadata": {},
   "outputs": [],
   "source": [
    "import time, math"
   ]
  },
  {
   "cell_type": "code",
   "execution_count": null,
   "metadata": {},
   "outputs": [],
   "source": [
    "#decorator func to calc the duration taken by any function\n",
    "\n",
    "def calculate_time(func):\n",
    "    def inner1(*args, **kwargs):\n",
    "        begin = time.time()\n",
    "        func(*args, **kwargs)\n",
    "        end = time.time()\n",
    "        print(f\"Total Time taken in:  {func.__name__, end - begin}\")\n",
    "\n",
    "    return inner1\n",
    "@calculate_time\n",
    "\n",
    "def factorial(num):\n",
    "    time.sleep(2)\n",
    "    print(math.factorial(num))\n",
    "\n",
    "factorial(25)"
   ]
  },
  {
   "cell_type": "markdown",
   "metadata": {},
   "source": [
    "What if a function returns something?"
   ]
  },
  {
   "cell_type": "code",
   "execution_count": null,
   "metadata": {},
   "outputs": [],
   "source": [
    "def hello_decorator(func):\n",
    "    def inner1(*args, **kwargs):\n",
    "        return_value = func(*args, **kwargs)\n",
    "        print(\"After execution\")\n",
    "        return return_value\n",
    "    return inner1\n",
    "\n",
    "@hello_decorator\n",
    "def sum_two_numbers(a, b):\n",
    "    print(\"Inside the function\")\n",
    "    return a + b\n",
    "\n",
    "a, b = 10, 20\n",
    "\n",
    "print(\"Sum = \", sum_two_numbers(a, b))"
   ]
  },
  {
   "cell_type": "markdown",
   "metadata": {},
   "source": [
    "Chaining Decorators"
   ]
  },
  {
   "cell_type": "code",
   "execution_count": 8,
   "metadata": {},
   "outputs": [
    {
     "name": "stdout",
     "output_type": "stream",
     "text": [
      "In decor2\n",
      "Returning inner from decor2\n",
      "In decor1\n",
      "Returning inner from decor1\n",
      "In inner of Decor1\n",
      "In inner of Decor2\n",
      "Returning calc x from inner of decor2: 10\n",
      "Returning calc x from inner of decor1: 20\n",
      "400\n"
     ]
    }
   ],
   "source": [
    "def decor1(func):\n",
    "    print(\"In decor1\")\n",
    "    def inner():\n",
    "        print(\"In inner of Decor1\")\n",
    "        x = func()\n",
    "        print(f\"Returning calc x from inner of decor1: {x}\")\n",
    "        return x * x\n",
    "    print(\"Returning inner from decor1\")\n",
    "    return inner\n",
    "\n",
    "def decor2(func):\n",
    "    print(\"In decor2\")\n",
    "    def inner():\n",
    "        print(\"In inner of Decor2\")\n",
    "        x = func()\n",
    "        print(f\"Returning calc x from inner of decor2: {x}\")\n",
    "        return 2 * x\n",
    "    print(\"Returning inner from decor2\")\n",
    "    return inner\n",
    "\n",
    "@decor1\n",
    "@decor2\n",
    "\n",
    "def num():\n",
    "    return 10\n",
    "\n",
    "print(num())\n",
    "\n",
    "#the above is similar to decor2(decor1(num))"
   ]
  },
  {
   "cell_type": "code",
   "execution_count": 10,
   "metadata": {},
   "outputs": [],
   "source": [
    "from mod_decorator import do_thrice"
   ]
  },
  {
   "cell_type": "code",
   "execution_count": 11,
   "metadata": {},
   "outputs": [
    {
     "name": "stdout",
     "output_type": "stream",
     "text": [
      "hello there\n",
      "hello there\n",
      "hello there\n"
     ]
    }
   ],
   "source": [
    "@do_thrice\n",
    "def say_hello():\n",
    "    print(\"hello there\")\n",
    "say_hello()"
   ]
  }
 ],
 "metadata": {
  "interpreter": {
   "hash": "2c4a0e462d5eb47ccb02ab75c092febb222556232e160fc793b5c239a0fdd870"
  },
  "kernelspec": {
   "display_name": "Python 3.10.0 64-bit",
   "language": "python",
   "name": "python3"
  },
  "language_info": {
   "codemirror_mode": {
    "name": "ipython",
    "version": 3
   },
   "file_extension": ".py",
   "mimetype": "text/x-python",
   "name": "python",
   "nbconvert_exporter": "python",
   "pygments_lexer": "ipython3",
   "version": "3.10.0"
  },
  "orig_nbformat": 4
 },
 "nbformat": 4,
 "nbformat_minor": 2
}
