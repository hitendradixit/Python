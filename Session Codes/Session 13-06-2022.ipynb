{
 "cells": [
  {
   "cell_type": "markdown",
   "metadata": {},
   "source": [
    "Nested Function"
   ]
  },
  {
   "cell_type": "code",
   "execution_count": 1,
   "metadata": {},
   "outputs": [
    {
     "name": "stdout",
     "output_type": "stream",
     "text": [
      "I like to code in python\n"
     ]
    }
   ],
   "source": [
    "def outer_function(txt):\n",
    "    def inner_function():\n",
    "        print(txt)\n",
    "    \n",
    "    inner_function()\n",
    "outer_function(\"I like to code in python\")"
   ]
  },
  {
   "cell_type": "markdown",
   "metadata": {},
   "source": [
    "Closures - it is a record that stores a function together with an environment i.e., there is a mapping associating each free varaible of the function with value or reference to which the name was bound when closure was created"
   ]
  },
  {
   "cell_type": "code",
   "execution_count": 4,
   "metadata": {},
   "outputs": [
    {
     "name": "stdout",
     "output_type": "stream",
     "text": [
      "I like to code in python\n"
     ]
    }
   ],
   "source": [
    "def outer_function(text):\n",
    "    text = text\n",
    "    def inner_function():\n",
    "        print(text)\n",
    "\n",
    "    return inner_function #here we are returning the object \n",
    "\n",
    "# closure basically helps us to invoke functions outside their scope\n",
    "# here inner_function() is having the scope only inside the outer_function(), but with\n",
    "# the use of closure we can extend the scope of inner_function() and can invoke it\n",
    "# outside its scope\n",
    "\n",
    "if __name__ == '__main__':\n",
    "    myfunction = outer_function(\"I like to code in python\")\n",
    "    myfunction() #here this is a closure\n",
    "    #inner_function() this will throw error"
   ]
  },
  {
   "cell_type": "code",
   "execution_count": 10,
   "metadata": {},
   "outputs": [
    {
     "name": "stdout",
     "output_type": "stream",
     "text": [
      "Hello World\n"
     ]
    }
   ],
   "source": [
    "def print_msg(msg): #this is an outer function\n",
    "\n",
    "    def printer(): #this is an inner function\n",
    "        print(msg)\n",
    "    \n",
    "    return printer #this returns the nested function\n",
    "\n",
    "    \n",
    "sample = print_msg(\"Hello World\")\n",
    "sample()\n"
   ]
  },
  {
   "cell_type": "code",
   "execution_count": 11,
   "metadata": {},
   "outputs": [
    {
     "name": "stdout",
     "output_type": "stream",
     "text": [
      "Hello World\n"
     ]
    }
   ],
   "source": [
    "#this value in enclosing scope is still remembered even though \n",
    "# the variable goes out of scope or the function is itself deleted\n",
    "del print_msg #deleting the print_msg()\n",
    "sample() \n",
    "#print_msg(\"Hello Python\") this will throw an error"
   ]
  },
  {
   "cell_type": "markdown",
   "metadata": {},
   "source": [
    "Conclusions: \n",
    "1. Using closure we can invoke the functions which are out of scope in Python\n",
    "2. Closure is a function that remembers the values present in the enclosed scope\n",
    "3. Its a record in which each variable of a function is mapped with the value or a reference to the name when the closure was created\n",
    "4. It acts as an aid to fetch or access the variables with the help of closure copies"
   ]
  },
  {
   "cell_type": "code",
   "execution_count": 14,
   "metadata": {},
   "outputs": [
    {
     "name": "stdout",
     "output_type": "stream",
     "text": [
      "Using Closure the value of 9 + 2 = 11\n",
      "Using Closure the value of 8 + 6 = 14\n",
      "Using another way without creating different variables the value of 9 + 11 is = 32\n"
     ]
    }
   ],
   "source": [
    "#Example 2\n",
    "def add_num(n):\n",
    "    def addition(x):\n",
    "        return x + n\n",
    "    return addition\n",
    "\n",
    "add_2 = add_num(2) #here add_num is called and n will store the value 2 in it\n",
    "add_8 = add_num(8) #here add_num is called and n will store the value 8 in it \n",
    "\n",
    "add_9_to_2 = add_2(9) #here addition is called and x will store the value 9 and returns 9 + 2\n",
    "#because add_2 will act as closure\n",
    "add_6_to_8 = add_8(6) #here addition is called and x will store the value 6 and returns 6 + 8)\n",
    "#because add_8 will act as closure\n",
    "print(f\"Using Closure the value of 9 + 2 = {add_9_to_2}\")\n",
    "print(f\"Using Closure the value of 8 + 6 = {add_6_to_8}\")\n",
    "\n",
    "#other way to do the above thing is \n",
    "add_11 = add_num(11)\n",
    "add_12 = add_num(12)\n",
    "print(\"Using another way without creating different variables the value of 9 + 12 + 11 is = \",end = \"\")\n",
    "print(f\"{add_11(add_12(9))}\")\n"
   ]
  },
  {
   "cell_type": "markdown",
   "metadata": {},
   "source": [
    "3 W's\n",
    "1. When do we have Closures?\n",
    "2. Why to use closures?\n",
    "3. When to use closures?"
   ]
  },
  {
   "cell_type": "code",
   "execution_count": 18,
   "metadata": {},
   "outputs": [
    {
     "name": "stdout",
     "output_type": "stream",
     "text": [
      "7 times 3 = 21\n",
      "8 times 8 = 24\n",
      "7 times 5 = 35\n",
      "7 times 9 = 63\n"
     ]
    }
   ],
   "source": [
    "def make_multiplier(n):\n",
    "    def multiplier(x):\n",
    "        return x * n\n",
    "\n",
    "    return multiplier\n",
    "\n",
    "times3 = make_multiplier(3)\n",
    "print(f\"7 times 3 = {times3(7)}\")\n",
    "print(f\"8 times 8 = {times3(8)}\")\n",
    "\n",
    "times7 = make_multiplier(7)\n",
    "print(f\"7 times 5 = {times7(5)}\")\n",
    "print(f\"7 times 9 = {times7(9)}\")"
   ]
  },
  {
   "cell_type": "code",
   "execution_count": 20,
   "metadata": {},
   "outputs": [],
   "source": [
    "times3.__closure__\n",
    "make_multiplier.__closure__"
   ]
  },
  {
   "cell_type": "code",
   "execution_count": 25,
   "metadata": {},
   "outputs": [
    {
     "name": "stdout",
     "output_type": "stream",
     "text": [
      "Cell contents of times3 closure is = 3\n",
      "Cell contents of times7 closure is = 7\n"
     ]
    }
   ],
   "source": [
    "print(f\"Cell contents of times3 closure is = {times3.__closure__[0].cell_contents}\")\n",
    "print(f\"Cell contents of times7 closure is = {times7.__closure__[0].cell_contents}\")"
   ]
  }
 ],
 "metadata": {
  "kernelspec": {
   "display_name": "Python 3.10.0 64-bit",
   "language": "python",
   "name": "python3"
  },
  "language_info": {
   "codemirror_mode": {
    "name": "ipython",
    "version": 3
   },
   "file_extension": ".py",
   "mimetype": "text/x-python",
   "name": "python",
   "nbconvert_exporter": "python",
   "pygments_lexer": "ipython3",
   "version": "3.10.0"
  },
  "orig_nbformat": 4,
  "vscode": {
   "interpreter": {
    "hash": "2c4a0e462d5eb47ccb02ab75c092febb222556232e160fc793b5c239a0fdd870"
   }
  }
 },
 "nbformat": 4,
 "nbformat_minor": 2
}
