{
 "cells": [
  {
   "cell_type": "markdown",
   "metadata": {},
   "source": [
    "List"
   ]
  },
  {
   "cell_type": "code",
   "execution_count": 6,
   "metadata": {},
   "outputs": [
    {
     "name": "stdout",
     "output_type": "stream",
     "text": [
      "5\n"
     ]
    }
   ],
   "source": [
    "list1 = [1, 3, 4, 5] #integer list\n",
    "list2 = [2.5, 4.6, 6.7] #float\n",
    "list3 = [\"Mango\", \"Apple\", \"Banana\", \"Peach\"]\n",
    "list4 = [1, \"Mango\", 4.5, \"Apple\", [\"Milk\", \"Butter\", \"Honey\"]]\n",
    "print(len(list4))"
   ]
  },
  {
   "cell_type": "code",
   "execution_count": 7,
   "metadata": {},
   "outputs": [
    {
     "name": "stdout",
     "output_type": "stream",
     "text": [
      "1\n",
      "Mango\n",
      "4.5\n",
      "Apple\n",
      "['Milk', 'Butter', 'Honey']\n"
     ]
    }
   ],
   "source": [
    "for i in list4: #i will store elements in itself one by one\n",
    "    print(i)"
   ]
  },
  {
   "cell_type": "code",
   "execution_count": 13,
   "metadata": {},
   "outputs": [
    {
     "name": "stdout",
     "output_type": "stream",
     "text": [
      "[1, 'Mango', 4.5, 'Apple', ['Milk', 'Butter', 'Honey']]\n",
      "Apple\n",
      "[1, 'Mango', 4.5]\n",
      "['Milk', 'Butter', 'Honey']\n",
      "Milk\n"
     ]
    }
   ],
   "source": [
    "print(list4)\n",
    "print(list4[3]) #this will giev the 4th element\n",
    "print(list4[:-2])\n",
    "print(list4[4])\n",
    "print(list4[4][0]) #this will give the 1st element of sub list"
   ]
  },
  {
   "cell_type": "code",
   "execution_count": 20,
   "metadata": {},
   "outputs": [
    {
     "name": "stdout",
     "output_type": "stream",
     "text": [
      "[1, 'Mango', 4.5, 'Apple', ['Milk', 'Butter', 'Honey']]\n",
      "[1, 'Mango', 4.5, 'Apple', ['Milk', 'Butter', 'Honey'], 'Peach']\n",
      "[1, 'Kiwi', 'Mango', 4.5, 'Apple', ['Milk', 'Butter', 'Honey'], 'Peach']\n",
      "[1, 'Kiwi', 'Mango', 4.5, 'Apple', ['Milk', 'Butter', 'Honey'], 'Peach', 'Lenevo', 'Samsung', 'Dell']\n"
     ]
    }
   ],
   "source": [
    "list4 = [1, \"Mango\", 4.5, \"Apple\", [\"Milk\", \"Butter\", \"Honey\"]]\n",
    "print(list4)\n",
    "list4.append(\"Peach\") #this will add the element at the end of the list\n",
    "print(list4)\n",
    "list4.insert(1,\"Kiwi\") #this will add the element at 2nd position or at 1st index\n",
    "print(list4)\n",
    "list3 = [\"Lenevo\" , \"Samsung\", \"Dell\"]\n",
    "list4.extend(list3) #this will add the elements of list3 at the end of list4\n",
    "print(list4)"
   ]
  },
  {
   "cell_type": "code",
   "execution_count": 26,
   "metadata": {},
   "outputs": [
    {
     "name": "stdout",
     "output_type": "stream",
     "text": [
      "['Mango', 'Apple', 'Kiwi', 'Banana']\n",
      "['Mango', 'Apple', 'Kiwi', 'Banana']\n",
      "['Mango', 'Apple', 'Kiwi', 'Banana', 'Orange']\n",
      "['Mango', 'Apple', 'Kiwi', 'Banana']\n"
     ]
    }
   ],
   "source": [
    "list1 = [\"Mango\", \"Apple\", \"Kiwi\", \"Banana\"]\n",
    "print(list1)\n",
    "#list2 = list1 #this works on the memory address i.e, it'll never allocate a new memory address to a new list if we use = \n",
    "list2 = list1.copy()#this will create a separate memory address for list2\n",
    "print(list2)\n",
    "#list2.extend(\"Orange\") #if we use extend to add any element it will add it by element by element\n",
    "list2.append(\"Orange\")\n",
    "print(list2)\n",
    "print(list1)"
   ]
  },
  {
   "cell_type": "code",
   "execution_count": 28,
   "metadata": {},
   "outputs": [
    {
     "name": "stdout",
     "output_type": "stream",
     "text": [
      "['Mango', 'Apple', 'Kiwi', 'Banana', 'Orange']\n",
      "[]\n"
     ]
    }
   ],
   "source": [
    "print(list2)\n",
    "list2.clear() #this will delete all the elements of the list but will still have some space in the memory\n",
    "print(list2)"
   ]
  },
  {
   "cell_type": "code",
   "execution_count": 30,
   "metadata": {},
   "outputs": [
    {
     "name": "stdout",
     "output_type": "stream",
     "text": [
      "[1, 3, 44, 34, 32, 66, 77, 87, 2]\n",
      "[1, 2, 3, 32, 34, 44, 66, 77, 87]\n"
     ]
    }
   ],
   "source": [
    "list2 = [1, 3, 44, 34, 32, 66, 77, 87,2]\n",
    "print(list2)\n",
    "list2.sort()\n",
    "print(list2)"
   ]
  },
  {
   "cell_type": "code",
   "execution_count": 35,
   "metadata": {},
   "outputs": [
    {
     "name": "stdout",
     "output_type": "stream",
     "text": [
      "[1, 3, 44, 34, 32, 66, 77, 87, 2]\n",
      "[87, 77, 66, 44, 34, 32, 3, 2, 1]\n"
     ]
    }
   ],
   "source": [
    "list2 = [1, 3, 44, 34, 32, 66, 77, 87,2]\n",
    "print(list2)\n",
    "list2.sort()\n",
    "list2.reverse()\n",
    "print(list2)"
   ]
  },
  {
   "cell_type": "code",
   "execution_count": 38,
   "metadata": {},
   "outputs": [
    {
     "name": "stdout",
     "output_type": "stream",
     "text": [
      "[87, 77, 66, 44, 34, 32, 3, 2, 1]\n",
      "The index of 66 is =  2 and the position of 66 is = 3\n"
     ]
    }
   ],
   "source": [
    "print(list2)\n",
    "print(f\"The index of 66 is =  {list2.index(66)} and the position of 66 is = {list2.index(66) + 1}\")"
   ]
  },
  {
   "cell_type": "code",
   "execution_count": 41,
   "metadata": {},
   "outputs": [
    {
     "name": "stdout",
     "output_type": "stream",
     "text": [
      "1 occurs 4 times\n"
     ]
    }
   ],
   "source": [
    "list3 = [1, 1, 1, 1, 3, 3, 3, 3 ,3 , 3, 3, 3, 4, 4, 4 ]\n",
    "print(f\"1 occurs {list3.count(1)} times\")"
   ]
  },
  {
   "cell_type": "code",
   "execution_count": 47,
   "metadata": {},
   "outputs": [
    {
     "name": "stdout",
     "output_type": "stream",
     "text": [
      "[1, 1, 1, 1, 3, 3, 3, 3, 3, 3, 3, 3, 4, 4, 4]\n",
      "The sum of all the elments of list3 is  = 40\n"
     ]
    }
   ],
   "source": [
    "#list2 = [\"Mango\", \"Banana\"]\n",
    "print(list3)\n",
    "print(f\"The sum of all the elments of list3 is  = {sum(list3)}\")\n",
    "#print(f\"The sum of all the elments of list2 is  = {sum(list2)}\") will throw error"
   ]
  },
  {
   "cell_type": "markdown",
   "metadata": {},
   "source": [
    "List Comprehension"
   ]
  },
  {
   "cell_type": "code",
   "execution_count": 54,
   "metadata": {},
   "outputs": [
    {
     "name": "stdout",
     "output_type": "stream",
     "text": [
      "[15, 30, 45, 60, 75, 90]\n"
     ]
    }
   ],
   "source": [
    "#list1 = [ 2, 4, 6, 8, 10, 12, 14, 16, ............, 100 ]\n",
    "list1 = [ i for i in range(1, 101)]#will give the list of numbers from 1 to 100\n",
    "list2 = [ i for i in range(1, 101) if i % 2 == 0] #this will give me even numbers from 1 to 100\n",
    "list3 = [i for i in range(1,101) if i % 3 == 0 if i % 5 == 0]\n",
    "#print(list1)\n",
    "#print(list2)\n",
    "print(list3)"
   ]
  },
  {
   "cell_type": "markdown",
   "metadata": {},
   "source": [
    "Tuple"
   ]
  },
  {
   "cell_type": "code",
   "execution_count": 56,
   "metadata": {},
   "outputs": [
    {
     "name": "stdout",
     "output_type": "stream",
     "text": [
      "['Mango', 'Apple', 'Kiwi', 'Banana']\n",
      "['Mango', 'Apple', 'Orange', 'Banana']\n"
     ]
    }
   ],
   "source": [
    "list1 = [\"Mango\", \"Apple\", \"Kiwi\", \"Banana\"]\n",
    "print(list1)\n",
    "list1[2] = \"Orange\"\n",
    "print(list1)"
   ]
  },
  {
   "cell_type": "code",
   "execution_count": 68,
   "metadata": {},
   "outputs": [
    {
     "name": "stdout",
     "output_type": "stream",
     "text": [
      "('Mango', 'Apple', 'Kiwi', 'Banana')\n",
      "('Mango', 'Apple', 'Kiwi', 'Banana', ['Milk', 'Butter', 'Honey'])\n",
      "<class 'list'>\n",
      "('Mango', 'Apple', 'Kiwi', 'Banana', ['Milk', 'Oats', 'Honey'])\n"
     ]
    }
   ],
   "source": [
    "tup1 = tuple([\"Mango\", \"Apple\", \"Kiwi\", \"Banana\"]) #this will convert list into tuple\n",
    "tup2 = (\"Mango\", \"Apple\", \"Kiwi\", \"Banana\", [\"Milk\", \"Butter\", \"Honey\"])\n",
    "print(tup1)\n",
    "print(tup2)\n",
    "#tup1[2] = \"Orange\" thiw will throw error\n",
    "print(type(tup2[4]))\n",
    "tup2[4][1] = \"Oats\" #we are changing the element of list not tuple\n",
    "print(tup2)\n"
   ]
  },
  {
   "cell_type": "code",
   "execution_count": 80,
   "metadata": {},
   "outputs": [
    {
     "name": "stdout",
     "output_type": "stream",
     "text": [
      "(12, 14, 12, 15, 16, 1, 3, 4, 5, 77, 88, 90, 9)\n",
      "The sum of elements of tuple is = 346\n",
      "The number of elements in the tuple is = 13\n",
      "Least value in tuple is  = 1\n",
      "Highest value in tuple is  = 90\n",
      "The tuple in sorted manner is = (1, 3, 4, 5, 9, 12, 12, 14, 15, 16, 77, 88, 90)\n",
      "The index of 14 is = 7 and position is 8\n",
      "12 occurs 2 times\n"
     ]
    }
   ],
   "source": [
    "tup1 = ( 12, 14, 12, 15, 16 ,1, 3, 4, 5, 77, 88, 90, 9 )\n",
    "print(tup1)\n",
    "print(f\"The sum of elements of tuple is = {sum(tup1)}\")\n",
    "print(f\"The number of elements in the tuple is = {len(tup1)}\")\n",
    "print(f\"Least value in tuple is  = {min(tup1)}\")\n",
    "print(f\"Highest value in tuple is  = {max(tup1)}\")\n",
    "tup1 = tuple(sorted(tup1))\n",
    "print(f\"The tuple in sorted manner is = {tup1}\")\n",
    "print(f\"The index of 14 is = {tup1.index(14)} and position is {tup1.index(14) + 1}\")\n",
    "print(f\"12 occurs {tup1.count(12)} times\")"
   ]
  },
  {
   "cell_type": "markdown",
   "metadata": {},
   "source": [
    "Set"
   ]
  },
  {
   "cell_type": "code",
   "execution_count": 81,
   "metadata": {},
   "outputs": [
    {
     "name": "stdout",
     "output_type": "stream",
     "text": [
      "{1, 3, 4}\n"
     ]
    }
   ],
   "source": [
    "set1 = {1, 1, 1, 1, 3, 3, 3, 3 ,3 , 3, 3, 3, 4, 4, 4 } #stores only unique elements\n",
    "print(set1)"
   ]
  },
  {
   "cell_type": "code",
   "execution_count": 85,
   "metadata": {},
   "outputs": [
    {
     "name": "stdout",
     "output_type": "stream",
     "text": [
      "{'Apple', 'Mango', 'Banana'}\n"
     ]
    }
   ],
   "source": [
    "set2 = {\"Mango\", \"Mango\", \"Mango\", \"Apple\" ,\"Apple\", \"Banana\"}\n",
    "print(set2)\n",
    "#print(\"mango\" > \"Mango\")\n",
    "#{Mango, Apple}"
   ]
  },
  {
   "cell_type": "code",
   "execution_count": 88,
   "metadata": {},
   "outputs": [
    {
     "name": "stdout",
     "output_type": "stream",
     "text": [
      "{1, 3, 4, 5, 9, 12, 77, 14, 15, 16, 88, 90}\n"
     ]
    }
   ],
   "source": [
    "tup1 = ( 12, 14, 12, 15, 16 ,1, 3, 4, 5, 77, 88, 90, 9 )\n",
    "set2 = set(tup1)\n",
    "print(set2)"
   ]
  },
  {
   "cell_type": "code",
   "execution_count": 93,
   "metadata": {},
   "outputs": [
    {
     "name": "stdout",
     "output_type": "stream",
     "text": [
      "{1, 3, 4, 5, 9, 12, 77, 14, 15, 16, 'Mango', 'apple', 88, 90, 'Banana'}\n"
     ]
    }
   ],
   "source": [
    "set2.add(\"Mango\")\n",
    "#print(set2)\n",
    "set2.update([\"apple\",\"Banana\"])\n",
    "print(set2)"
   ]
  },
  {
   "cell_type": "markdown",
   "metadata": {},
   "source": [
    "Dictionary"
   ]
  },
  {
   "cell_type": "code",
   "execution_count": 96,
   "metadata": {},
   "outputs": [
    {
     "name": "stdout",
     "output_type": "stream",
     "text": [
      "Brazil\n"
     ]
    }
   ],
   "source": [
    "dict1 = { \"A\" : \"America\", \"B\": \"Brazil\", \"C\": \"Canada\", \"D\": \"Denmark\" }\n",
    "print(dict1[\"B\"])\n"
   ]
  },
  {
   "cell_type": "code",
   "execution_count": 98,
   "metadata": {},
   "outputs": [
    {
     "name": "stdout",
     "output_type": "stream",
     "text": [
      "The key is A and corresponding value is America\n",
      "The key is B and corresponding value is Brazil\n",
      "The key is C and corresponding value is Canada\n",
      "The key is D and corresponding value is Denmark\n"
     ]
    }
   ],
   "source": [
    "dict1 = { \"A\" : \"America\", \"B\": \"Brazil\", \"C\": \"Canada\", \"D\": \"Denmark\" }\n",
    "for i in dict1: #this will take the key\n",
    "    print(f\"The key is {i} and corresponding value is {dict1[i]}\")"
   ]
  },
  {
   "cell_type": "code",
   "execution_count": 109,
   "metadata": {},
   "outputs": [
    {
     "name": "stdout",
     "output_type": "stream",
     "text": [
      "{'A': 'America', 'B': 'Brazil', 'C': 'Canada', 'D': 'Dominica'}\n",
      "{'A': 'America', 'B': 'Brazil', 'C': 'Canada', 'D': 'Dominica', 'E': 'Egypt'}\n",
      "{'A': 'America', 'B': 'Brazil', 'C': 'Canada', 'D': 'Dominica', 'E': 'Egypt', 'd': 'Denmark'}\n"
     ]
    }
   ],
   "source": [
    "dict1 = { \"A\" : \"America\", \"B\": \"Brazil\", \"C\": \"Canada\", \"D\": \"Denmark\" }\n",
    "dict1[\"D\"] = \"Dominica\" #update the value\n",
    "print(dict1)\n",
    "dict1[\"E\"] = \"Egypt\" #inserting the new value\n",
    "print(dict1)\n",
    "dict1[\"d\"] = \"Denmark\"\n",
    "print(dict1)"
   ]
  },
  {
   "cell_type": "code",
   "execution_count": 110,
   "metadata": {},
   "outputs": [
    {
     "name": "stdout",
     "output_type": "stream",
     "text": [
      "popped element is America\n"
     ]
    }
   ],
   "source": [
    "#we will give the key here to pop the element\n",
    "print(f\"popped element is {dict1.pop('A')}\")"
   ]
  },
  {
   "cell_type": "code",
   "execution_count": 111,
   "metadata": {},
   "outputs": [],
   "source": [
    "dict2 = dict1.copy()"
   ]
  },
  {
   "cell_type": "code",
   "execution_count": 115,
   "metadata": {},
   "outputs": [
    {
     "name": "stdout",
     "output_type": "stream",
     "text": [
      "{}\n",
      "Brazil\n"
     ]
    },
    {
     "data": {
      "text/plain": [
       "dict_items([('B', 'Brazil'), ('C', 'Canada'), ('D', 'Dominica'), ('E', 'Egypt'), ('d', 'Denmark')])"
      ]
     },
     "execution_count": 115,
     "metadata": {},
     "output_type": "execute_result"
    }
   ],
   "source": [
    "dict2.clear()\n",
    "print(dict2)\n",
    "print(dict1.get(\"B\"))\n",
    "dict1.items()"
   ]
  }
 ],
 "metadata": {
  "interpreter": {
   "hash": "2c4a0e462d5eb47ccb02ab75c092febb222556232e160fc793b5c239a0fdd870"
  },
  "kernelspec": {
   "display_name": "Python 3.10.0 64-bit",
   "language": "python",
   "name": "python3"
  },
  "language_info": {
   "codemirror_mode": {
    "name": "ipython",
    "version": 3
   },
   "file_extension": ".py",
   "mimetype": "text/x-python",
   "name": "python",
   "nbconvert_exporter": "python",
   "pygments_lexer": "ipython3",
   "version": "3.10.0"
  },
  "orig_nbformat": 4
 },
 "nbformat": 4,
 "nbformat_minor": 2
}
