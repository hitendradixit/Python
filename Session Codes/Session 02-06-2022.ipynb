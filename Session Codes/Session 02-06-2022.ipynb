{
 "cells": [
  {
   "cell_type": "markdown",
   "metadata": {},
   "source": [
    "8 Core -> There are 8 physical processors in the chip\n",
    "16 Thread-> these 8 cores are divided into 2 threads each at the software level i.e., not at ,physical level"
   ]
  },
  {
   "cell_type": "markdown",
   "metadata": {},
   "source": [
    "Let's consider three tasks-\n",
    "1. Game(GTA V) -> 4 Cores\n",
    "2. Chrome -> 2 Cores\n",
    "3. VS Code -> 2 Cores\n"
   ]
  },
  {
   "cell_type": "markdown",
   "metadata": {},
   "source": [
    "Here Chrome Is using 2 Cores ->\n",
    "So, \n",
    "1. To execute chorme -> 1 Core\n",
    "2. To download and run the tabs -> 1 Core"
   ]
  },
  {
   "cell_type": "markdown",
   "metadata": {},
   "source": [
    "Using Muliprocessing"
   ]
  },
  {
   "cell_type": "code",
   "execution_count": 2,
   "metadata": {},
   "outputs": [],
   "source": [
    "import multiprocessing as m"
   ]
  },
  {
   "cell_type": "code",
   "execution_count": 7,
   "metadata": {},
   "outputs": [
    {
     "name": "stdout",
     "output_type": "stream",
     "text": [
      "Starting the first Process: \n",
      "Starting the second process: \n",
      "Waiting for process 1 to be finished\n",
      "Waiting for my second process to be finished\n",
      "Both process done\n"
     ]
    }
   ],
   "source": [
    "def print_cube(num):\n",
    "    print(f\"Cube of {num} is {num ** 3}\")\n",
    "def print_square(num):\n",
    "    print(f\"Square of {num} is {num ** 2}\")\n",
    "\n",
    "if __name__ == \"__main__\":\n",
    "    p1 = m.Process(target = print_square, args = (10,))\n",
    "    p2 = m.Process(target = print_cube, args = (10,))\n",
    "\n",
    "    #print(\"Starting the first Process: \")\n",
    "    p1.start()\n",
    "\n",
    "    #print(\"Starting the second process: \")\n",
    "    p2.start()\n",
    "\n",
    "    #print(\"Waiting for process 1 to be finished\")\n",
    "    p1.join()\n",
    "\n",
    "    #print(\"Waiting for my second process to be finished\")\n",
    "    p1.join()\n",
    "\n",
    "    #print(\"Both process done\")\n"
   ]
  },
  {
   "cell_type": "code",
   "execution_count": 8,
   "metadata": {},
   "outputs": [
    {
     "name": "stdout",
     "output_type": "stream",
     "text": [
      "ID of main process: 18848\n",
      "ID of process p1: 2620\n",
      "ID of process p2: 21024\n",
      "Both processes finished execution!\n",
      "Process p1 is alive: False\n",
      "Process p2 is alive: False\n"
     ]
    }
   ],
   "source": [
    "# importing the multiprocessing module\n",
    "import multiprocessing\n",
    "import os\n",
    "\n",
    "def worker1():\n",
    "\t# printing process id\n",
    "\tprint(\"ID of process running worker1: {}\".format(os.getpid()))\n",
    "\n",
    "def worker2():\n",
    "\t# printing process id\n",
    "\tprint(\"ID of process running worker2: {}\".format(os.getpid()))\n",
    "\n",
    "if __name__ == \"__main__\":\n",
    "\t# printing main program process id\n",
    "\tprint(\"ID of main process: {}\".format(os.getpid()))\n",
    "\n",
    "\t# creating processes\n",
    "\tp1 = multiprocessing.Process(target=worker1)\n",
    "\tp2 = multiprocessing.Process(target=worker2)\n",
    "\n",
    "\t# starting processes\n",
    "\tp1.start()\n",
    "\tp2.start()\n",
    "\n",
    "\t# process IDs\n",
    "\tprint(\"ID of process p1: {}\".format(p1.pid))\n",
    "\tprint(\"ID of process p2: {}\".format(p2.pid))\n",
    "\n",
    "\t# wait until processes are finished\n",
    "\tp1.join()\n",
    "\tp2.join()\n",
    "\n",
    "\t# both processes finished\n",
    "\tprint(\"Both processes finished execution!\")\n",
    "\n",
    "\t# check if processes are alive\n",
    "\tprint(\"Process p1 is alive: {}\".format(p1.is_alive()))\n",
    "\tprint(\"Process p2 is alive: {}\".format(p2.is_alive()))\n"
   ]
  },
  {
   "cell_type": "markdown",
   "metadata": {},
   "source": [
    "18848 is sub-divided into 2620 and 21024 as the process id"
   ]
  },
  {
   "cell_type": "markdown",
   "metadata": {},
   "source": [
    "In Multiprocessiong, a newly created process will do 2 things- \n",
    "1. run independently\n",
    "2. have their own memory space"
   ]
  },
  {
   "cell_type": "code",
   "execution_count": 9,
   "metadata": {},
   "outputs": [
    {
     "name": "stdout",
     "output_type": "stream",
     "text": [
      "Result(in main program): []\n"
     ]
    }
   ],
   "source": [
    "import multiprocessing\n",
    "\n",
    "# empty list with global scope\n",
    "result = []\n",
    "\n",
    "def square_list(mylist):\n",
    "\t\"\"\"\n",
    "\tfunction to square a given list\n",
    "\t\"\"\"\n",
    "\tglobal result\n",
    "\t# append squares of mylist to global list result\n",
    "\tfor num in mylist:\n",
    "\t\tresult.append(num * num)\n",
    "\t# print global list result\n",
    "\tprint(\"Result(in process p1): {}\".format(result))\n",
    "\n",
    "if __name__ == \"__main__\":\n",
    "\t# input list\n",
    "\tmylist = [1,2,3,4]\n",
    "\n",
    "\t# creating new process\n",
    "\tp1 = multiprocessing.Process(target=square_list, args=(mylist,))\n",
    "\t# starting process\n",
    "\tp1.start()\n",
    "\t# wait until process is finished\n",
    "\tp1.join()\n",
    "\n",
    "\t# print global result list\n",
    "\tprint(\"Result(in main program): {}\".format(result))\n"
   ]
  },
  {
   "cell_type": "markdown",
   "metadata": {},
   "source": [
    "In short p1 will have blank memory space but main process will have some memory occupied"
   ]
  },
  {
   "cell_type": "markdown",
   "metadata": {},
   "source": [
    "Shared memory-\n",
    "1. Array\n",
    "2. value"
   ]
  },
  {
   "cell_type": "code",
   "execution_count": 10,
   "metadata": {},
   "outputs": [
    {
     "name": "stdout",
     "output_type": "stream",
     "text": [
      "Result(in main program): [0, 0, 0, 0]\n",
      "Sum of squares(in main program): 0\n"
     ]
    }
   ],
   "source": [
    "import multiprocessing\n",
    "\n",
    "def square_list(mylist, result, square_sum):\n",
    "\t\"\"\"\n",
    "\tfunction to square a given list\n",
    "\t\"\"\"\n",
    "\t# append squares of mylist to result array\n",
    "\tfor idx, num in enumerate(mylist):\n",
    "\t\tresult[idx] = num * num\n",
    "\n",
    "\t# square_sum value\n",
    "\tsquare_sum.value = sum(result)\n",
    "\n",
    "\t# print result Array\n",
    "\tprint(\"Result(in process p1): {}\".format(result[:]))\n",
    "\n",
    "\t# print square_sum Value\n",
    "\tprint(\"Sum of squares(in process p1): {}\".format(square_sum.value))\n",
    "\n",
    "if __name__ == \"__main__\":\n",
    "\t# input list\n",
    "\tmylist = [1,2,3,4]\n",
    "\n",
    "\t# creating Array of int data type with space for 4 integers\n",
    "\tresult = multiprocessing.Array('i', 4)\n",
    "\n",
    "\t# creating Value of int data type\n",
    "\tsquare_sum = multiprocessing.Value('i')\n",
    "\n",
    "\t# creating new process\n",
    "\tp1 = multiprocessing.Process(target=square_list, args=(mylist, result, square_sum))\n",
    "\n",
    "\t# starting process\n",
    "\tp1.start()\n",
    "\n",
    "\t# wait until the process is finished\n",
    "\tp1.join()\n",
    "\n",
    "\t# print result array\n",
    "\tprint(\"Result(in main program): {}\".format(result[:]))\n",
    "\n",
    "\t# print square_sum Value\n",
    "\tprint(\"Sum of squares(in main program): {}\".format(square_sum.value))\n"
   ]
  },
  {
   "cell_type": "markdown",
   "metadata": {},
   "source": [
    "MULTITHREADING"
   ]
  },
  {
   "cell_type": "markdown",
   "metadata": {},
   "source": [
    "Chrome -> Using 2 Cores\n",
    "1. To execute Chrome -> 1 Core\n",
    "2. To download and run tabs -> 1 Core\n",
    "\n",
    "To download and run the tabs -> 1 core\n",
    "1. one Thread will be used for Download\n",
    "1. one Thread will be used to run the tabs\n",
    "\n"
   ]
  },
  {
   "cell_type": "code",
   "execution_count": 12,
   "metadata": {},
   "outputs": [
    {
     "name": "stdout",
     "output_type": "stream",
     "text": [
      "starting thread 1\n",
      "Square: 100\n",
      "starting thread 2\n",
      "Cube: 1000\n",
      "wait until thread 1 is completely executed\n",
      "wait until thread 2 is completely executed\n",
      "Done!\n"
     ]
    }
   ],
   "source": [
    "# Python program to illustrate the concept\n",
    "# of threading\n",
    "# importing the threading module\n",
    "import threading\n",
    "\n",
    "def print_cube(num):\n",
    "\t\"\"\"\n",
    "\tfunction to print cube of given num\n",
    "\t\"\"\"\n",
    "\tprint(\"Cube: {}\".format(num * num * num))\n",
    "\n",
    "def print_square(num):\n",
    "\t\"\"\"\n",
    "\tfunction to print square of given num\n",
    "\t\"\"\"\n",
    "\tprint(\"Square: {}\".format(num * num))\n",
    "\n",
    "if __name__ == \"__main__\":\n",
    "\t# creating thread\n",
    "\tt1 = threading.Thread(target=print_square, args=(10,))\n",
    "\tt2 = threading.Thread(target=print_cube, args=(10,))\n",
    "\n",
    "\tprint(\"starting thread 1\")\n",
    "\tt1.start()\n",
    "\tprint(\"starting thread 2\")\n",
    "\tt2.start()\n",
    "\n",
    "\tprint(\"wait until thread 1 is completely executed\")\n",
    "\tt1.join()\n",
    "\tprint(\"wait until thread 2 is completely executed\")\n",
    "\tt2.join()\n",
    "\n",
    "\t# both threads completely executed\n",
    "\tprint(\"Done!\")\n"
   ]
  },
  {
   "cell_type": "markdown",
   "metadata": {},
   "source": [
    "Printing the thread id and thread name"
   ]
  },
  {
   "cell_type": "code",
   "execution_count": 14,
   "metadata": {},
   "outputs": [
    {
     "name": "stdout",
     "output_type": "stream",
     "text": [
      "ID of process running main program: 18848\n",
      "Main thread name: MainThread\n",
      "Task 1 assigned to thread: thread 1 executed\n",
      "ID of process running task 1: 18848\n",
      "Task 2 assigned to thread: thread 2 executed\n",
      "ID of process running task 2: 18848\n"
     ]
    }
   ],
   "source": [
    "# Python program to illustrate the concept\n",
    "# of threading\n",
    "import threading\n",
    "import os\n",
    "\n",
    "def task1():\n",
    "\tprint(\"Task 1 assigned to thread: {}\".format(threading.current_thread().name))\n",
    "\tprint(\"ID of process running task 1: {}\".format(os.getpid()))\n",
    "\n",
    "def task2():\n",
    "\tprint(\"Task 2 assigned to thread: {}\".format(threading.current_thread().name))\n",
    "\tprint(\"ID of process running task 2: {}\".format(os.getpid()))\n",
    "\n",
    "if __name__ == \"__main__\":\n",
    "\n",
    "\t# print ID of current process\n",
    "\tprint(\"ID of process running main program: {}\".format(os.getpid()))\n",
    "\n",
    "\t# print name of main thread\n",
    "\tprint(\"Main thread name: {}\".format(threading.current_thread().name))\n",
    "\n",
    "\t# creating threads\n",
    "\tt1 = threading.Thread(target=task1, name='thread 1 executed')\n",
    "\tt2 = threading.Thread(target=task2, name='thread 2 executed')\n",
    "\n",
    "\t# starting threads\n",
    "\tt1.start()\n",
    "\tt2.start()\n",
    "\n",
    "\t# wait until all threads finish\n",
    "\tt1.join()\n",
    "\tt2.join()\n"
   ]
  },
  {
   "cell_type": "markdown",
   "metadata": {},
   "source": [
    "In Race Condition if we try to change the varibale like following - \n",
    "1. var1 = 10 and at the same time var1 is changed to 20 i.e. now, var1 = 20\n",
    "2. So might be the case the var1 will show wrong data"
   ]
  },
  {
   "cell_type": "code",
   "execution_count": 18,
   "metadata": {},
   "outputs": [
    {
     "name": "stdout",
     "output_type": "stream",
     "text": [
      "Final balance = 100\n",
      "Final balance = 100\n",
      "Final balance = 100\n",
      "Final balance = 100\n",
      "Final balance = 100\n",
      "Final balance = 100\n",
      "Final balance = 100\n",
      "Final balance = 100\n",
      "Final balance = 100\n",
      "Final balance = 100\n"
     ]
    }
   ],
   "source": [
    "# Python program to illustrate\n",
    "# the concept of race condition\n",
    "# in multiprocessing\n",
    "import multiprocessing\n",
    "\n",
    "# function to withdraw from account\n",
    "def withdraw(balance):\t\n",
    "\tfor _ in range(10000):\n",
    "\t\tbalance.value = balance.value - 1\n",
    "\n",
    "# function to deposit to account\n",
    "def deposit(balance):\t\n",
    "\tfor _ in range(10000):\n",
    "\t\tbalance.value = balance.value + 1\n",
    "\n",
    "def perform_transactions():\n",
    "\n",
    "\t# initial balance (in shared memory)\n",
    "\tbalance = multiprocessing.Value('i', 100)\n",
    "\n",
    "\t# creating new processes\n",
    "\tp1 = multiprocessing.Process(target=withdraw, args=(balance,))\n",
    "\tp2 = multiprocessing.Process(target=deposit, args=(balance,))\n",
    "\n",
    "\t# starting processes\n",
    "\tp1.start()\n",
    "\tp2.start()\n",
    "\n",
    "\t# wait until processes are finished\n",
    "\tp1.join()\n",
    "\tp2.join()\n",
    "\n",
    "\t# print final balance\n",
    "\tprint(\"Final balance = {}\".format(balance.value))\n",
    "\n",
    "if __name__ == \"__main__\":\n",
    "\tfor _ in range(10):\n",
    "\n",
    "\t\t# perform same transaction process 10 times\n",
    "\t\tperform_transactions()\n"
   ]
  },
  {
   "cell_type": "markdown",
   "metadata": {},
   "source": [
    "Random Result for the above code should look like this should be like this - \n",
    "1. Final balance = 1311\n",
    "2. Final balance = 199\n",
    "3. Final balance = 558\n",
    "4. Final balance = -2265\n",
    "5. Final balance = 1371\n",
    "6. Final balance = 1158\n",
    "7. Final balance = -577\n",
    "8. Final balance = -1300\n",
    "9. Final balance = -341\n",
    "10. Final balance = 157"
   ]
  },
  {
   "cell_type": "markdown",
   "metadata": {},
   "source": [
    "LOCKS"
   ]
  },
  {
   "cell_type": "code",
   "execution_count": 19,
   "metadata": {},
   "outputs": [
    {
     "name": "stdout",
     "output_type": "stream",
     "text": [
      "Final balance = 100\n",
      "Final balance = 100\n",
      "Final balance = 100\n",
      "Final balance = 100\n",
      "Final balance = 100\n",
      "Final balance = 100\n",
      "Final balance = 100\n",
      "Final balance = 100\n",
      "Final balance = 100\n",
      "Final balance = 100\n"
     ]
    }
   ],
   "source": [
    "# Python program to illustrate\n",
    "# the concept of locks\n",
    "# in multiprocessing\n",
    "import multiprocessing\n",
    "\n",
    "# function to withdraw from account\n",
    "def withdraw(balance, lock):\t\n",
    "\tfor _ in range(10000):\n",
    "\t\tlock.acquire()\n",
    "\t\tbalance.value = balance.value - 1\n",
    "\t\tlock.release()\n",
    "\n",
    "# function to deposit to account\n",
    "def deposit(balance, lock):\t\n",
    "\tfor _ in range(10000):\n",
    "\t\tlock.acquire()\n",
    "\t\tbalance.value = balance.value + 1\n",
    "\t\tlock.release()\n",
    "\n",
    "def perform_transactions():\n",
    "\n",
    "\t# initial balance (in shared memory)\n",
    "\tbalance = multiprocessing.Value('i', 100)\n",
    "\n",
    "\t# creating a lock object\n",
    "\tlock = multiprocessing.Lock()\n",
    "\n",
    "\t# creating new processes\n",
    "\tp1 = multiprocessing.Process(target=withdraw, args=(balance,lock))\n",
    "\tp2 = multiprocessing.Process(target=deposit, args=(balance,lock))\n",
    "\n",
    "\t# starting processes\n",
    "\tp1.start()\n",
    "\tp2.start()\n",
    "\n",
    "\t# wait until processes are finished\n",
    "\tp1.join()\n",
    "\tp2.join()\n",
    "\n",
    "\t# print final balance\n",
    "\tprint(\"Final balance = {}\".format(balance.value))\n",
    "\n",
    "if __name__ == \"__main__\":\n",
    "\tfor _ in range(10):\n",
    "\n",
    "\t\t# perform same transaction process 10 times\n",
    "\t\tperform_transactions()\n"
   ]
  }
 ],
 "metadata": {
  "interpreter": {
   "hash": "2c4a0e462d5eb47ccb02ab75c092febb222556232e160fc793b5c239a0fdd870"
  },
  "kernelspec": {
   "display_name": "Python 3.10.0 64-bit",
   "language": "python",
   "name": "python3"
  },
  "language_info": {
   "codemirror_mode": {
    "name": "ipython",
    "version": 3
   },
   "file_extension": ".py",
   "mimetype": "text/x-python",
   "name": "python",
   "nbconvert_exporter": "python",
   "pygments_lexer": "ipython3",
   "version": "3.10.0"
  },
  "orig_nbformat": 4
 },
 "nbformat": 4,
 "nbformat_minor": 2
}
