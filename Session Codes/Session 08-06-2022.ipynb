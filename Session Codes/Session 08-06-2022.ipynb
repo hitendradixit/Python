{
 "cells": [
  {
   "cell_type": "markdown",
   "metadata": {},
   "source": [
    "Fancy Decorator"
   ]
  },
  {
   "cell_type": "code",
   "execution_count": 5,
   "metadata": {},
   "outputs": [
    {
     "name": "stdout",
     "output_type": "stream",
     "text": [
      "Name = Adam\n",
      "Grade = A+\n",
      "Adam got grade A+\n",
      "<class 'property'>\n"
     ]
    }
   ],
   "source": [
    "#using @property decorator which makes class function act like an attribute\n",
    "class Student:\n",
    "    def __init__(self, name, grade):\n",
    "        self.name = name\n",
    "        self.grade = grade\n",
    "    @property\n",
    "    def display(self):\n",
    "        return self.name + \" got grade \" + self.grade\n",
    "\n",
    "stu = Student(\"Adam\", \"A+\")\n",
    "print(f\"Name = {stu.name}\")\n",
    "print(f\"Grade = {stu.grade}\")\n",
    "print(stu.display)\n",
    "print(type(Student.display))"
   ]
  },
  {
   "cell_type": "code",
   "execution_count": 7,
   "metadata": {},
   "outputs": [
    {
     "name": "stdout",
     "output_type": "stream",
     "text": [
      "Hello Adam\n",
      "Hello Adam\n"
     ]
    }
   ],
   "source": [
    "#using @staticmethod, this can be called using class name as well as class object\n",
    "class Person:\n",
    "    @staticmethod\n",
    "    def hello():\n",
    "        print(\"Hello Adam\")\n",
    "\n",
    "per = Person()\n",
    "per.hello()\n",
    "Person.hello()"
   ]
  },
  {
   "cell_type": "code",
   "execution_count": null,
   "metadata": {},
   "outputs": [],
   "source": [
    "#Nesting Decorator\n",
    "@function1\n",
    "@function2\n",
    "def function(name):\n",
    "    print(name)"
   ]
  },
  {
   "cell_type": "code",
   "execution_count": 8,
   "metadata": {},
   "outputs": [],
   "source": [
    "import functools"
   ]
  },
  {
   "cell_type": "code",
   "execution_count": 10,
   "metadata": {},
   "outputs": [
    {
     "name": "stdout",
     "output_type": "stream",
     "text": [
      "Adam\n",
      "Adam\n",
      "Adam\n",
      "Adam\n",
      "Adam\n"
     ]
    }
   ],
   "source": [
    "def repeat(num):\n",
    "    def decorator_repeat(func):\n",
    "        @functools.wraps(func)\n",
    "        def wrapper(*args, **kwargs):\n",
    "            for _ in range(num):\n",
    "                value = func(*args, **kwargs)\n",
    "            return value\n",
    "        return wrapper\n",
    "    return decorator_repeat\n",
    "\n",
    "#passing number as an argument\n",
    "@repeat(num = 5)\n",
    "def function1(name):\n",
    "    print(name)\n",
    "\n",
    "function1(\"Adam\")"
   ]
  },
  {
   "cell_type": "markdown",
   "metadata": {},
   "source": [
    "Stateful Decorator"
   ]
  },
  {
   "cell_type": "code",
   "execution_count": 16,
   "metadata": {},
   "outputs": [
    {
     "name": "stdout",
     "output_type": "stream",
     "text": [
      "Out of count function\n",
      "Call 1 of 'say_hello'\n",
      "Hello\n",
      "30\n",
      "Call 2 of 'say_hello'\n",
      "Hello\n",
      "30\n"
     ]
    }
   ],
   "source": [
    "def count_function(func):\n",
    "    @functools.wraps(func)\n",
    "    def wrapper_count_calls(*args, **kwargs):\n",
    "        wrapper_count_calls.num_calls += 1 \n",
    "        print(f\"Call {wrapper_count_calls.num_calls} of {func.__name__!r}\")\n",
    "        return func(*args, **kwargs)\n",
    "    wrapper_count_calls.num_calls = 0\n",
    "    print(\"Out of count function\")\n",
    "    return wrapper_count_calls\n",
    "@count_function\n",
    "def say_hello():\n",
    "    print(\"Hello\")\n",
    "    a = 10 + 20\n",
    "    print(a)\n",
    "\n",
    "say_hello()\n",
    "say_hello()\n"
   ]
  },
  {
   "cell_type": "markdown",
   "metadata": {},
   "source": [
    "Classes as decorator"
   ]
  },
  {
   "cell_type": "code",
   "execution_count": 20,
   "metadata": {},
   "outputs": [],
   "source": [
    "class Count_Calls:\n",
    "    def __inint__ (self, func):\n",
    "        functools.update_wrapper(self, func)\n",
    "        self.func = func\n",
    "        self.num_calls = 0\n",
    "    def __call__(self, *args, **kwargs):\n",
    "        self.num_calls += 1\n",
    "        print(f\"call {self.num_calls} of {self.func.__name__!r}\")\n",
    "        return self.func(*args, **kwargs)\n",
    "\n",
    "#using class as a decorator\n",
    "\n",
    "@Count_Calls\n",
    "def say_hello():\n",
    "    print(\"Hello\")\n",
    "\n",
    "say_hello()\n",
    "say_hello()\n",
    "say_hello()\n",
    "say_hello()"
   ]
  },
  {
   "cell_type": "code",
   "execution_count": 24,
   "metadata": {},
   "outputs": [
    {
     "name": "stdout",
     "output_type": "stream",
     "text": [
      "Inside __init__\n",
      "Inside __call__\n",
      "Good day to you,  - Adam\n",
      "Exit __call__\n"
     ]
    }
   ],
   "source": [
    "#using class as decorator\n",
    "class MyDecorator:\n",
    "    def __init__(self, function):\n",
    "        print(\"Inside __init__\")\n",
    "        self.function = function\n",
    "    def __call__(self, *args, **kwargs):\n",
    "        print(\"Inside __call__\")\n",
    "        self.function(*args, **kwargs)\n",
    "        print(\"Exit __call__\")\n",
    "@MyDecorator\n",
    "def function(name, message = \"Good day to you, \"):\n",
    "    print(f\"{message} - {name}\")\n",
    "\n",
    "function(\"Adam\")"
   ]
  },
  {
   "cell_type": "code",
   "execution_count": 25,
   "metadata": {},
   "outputs": [
    {
     "name": "stdout",
     "output_type": "stream",
     "text": [
      "Inside __init__\n",
      "Inside __call__\n",
      "The square of 5 is - \n",
      "Exit __call__\n",
      "Square of number is : 25\n"
     ]
    }
   ],
   "source": [
    "#using class as decorator but with a return statement\n",
    "class SquareDecorator:\n",
    "    def __init__(self, function):\n",
    "        print(\"Inside __init__\")\n",
    "        self.function = function\n",
    "    def __call__(self, *args, **kwargs):\n",
    "        print(\"Inside __call__\")\n",
    "        result = self.function(*args, **kwargs)\n",
    "        print(\"Exit __call__\")\n",
    "        return result\n",
    "@SquareDecorator\n",
    "def get_square(n):\n",
    "    print(f\"The square of {n} is - \")\n",
    "    return n*n\n",
    "\n",
    "print(f\"Square of number is : {get_square(5)}\")"
   ]
  },
  {
   "cell_type": "code",
   "execution_count": 26,
   "metadata": {},
   "outputs": [
    {
     "name": "stdout",
     "output_type": "stream",
     "text": [
      "Inside __call__\n",
      "Execution time = 5.0045084953308105\n",
      "Exit __call__\n"
     ]
    }
   ],
   "source": [
    "#decorator to find the execution time\n",
    "from time import time\n",
    "class Timer:\n",
    "    def __init__(self, func):\n",
    "        self.function = func\n",
    "    def __call__(self, *args, **kwargs):\n",
    "        start_time = time()\n",
    "        print(\"Inside __call__\")\n",
    "        result = self.function(*args, **kwargs)\n",
    "        end_time = time()\n",
    "        print(f\"Execution time = {end_time - start_time}\")\n",
    "        print(\"Exit __call__\")\n",
    "        return result\n",
    "\n",
    "@Timer\n",
    "def function1(delay):\n",
    "    from time import sleep\n",
    "    sleep(delay)\n",
    "\n",
    "function1(5)"
   ]
  }
 ],
 "metadata": {
  "interpreter": {
   "hash": "2c4a0e462d5eb47ccb02ab75c092febb222556232e160fc793b5c239a0fdd870"
  },
  "kernelspec": {
   "display_name": "Python 3.10.0 64-bit",
   "language": "python",
   "name": "python3"
  },
  "language_info": {
   "codemirror_mode": {
    "name": "ipython",
    "version": 3
   },
   "file_extension": ".py",
   "mimetype": "text/x-python",
   "name": "python",
   "nbconvert_exporter": "python",
   "pygments_lexer": "ipython3",
   "version": "3.10.0"
  },
  "orig_nbformat": 4
 },
 "nbformat": 4,
 "nbformat_minor": 2
}
