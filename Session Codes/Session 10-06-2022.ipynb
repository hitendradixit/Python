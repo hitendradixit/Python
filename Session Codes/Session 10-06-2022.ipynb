{
 "cells": [
  {
   "cell_type": "markdown",
   "metadata": {},
   "source": [
    "Yield Keyword\n",
    "1. Use yield when you wnat to iterate over a sequence and don't want to stroe it in the memory"
   ]
  },
  {
   "cell_type": "code",
   "execution_count": null,
   "metadata": {},
   "outputs": [],
   "source": [
    "def simplegenerator():\n",
    "    yield 1\n",
    "    yield 2\n",
    "    yield 3\n",
    "\n",
    "for i in simplegenerator():\n",
    "    print(f\"After {i}th execution value returned: {i}\")"
   ]
  },
  {
   "cell_type": "code",
   "execution_count": null,
   "metadata": {},
   "outputs": [],
   "source": [
    "#Cretaing a function that returns square in between 1 to 100 using yield\n",
    "def nextsquare():\n",
    "    i = 1\n",
    "    while True:\n",
    "        yield i * i\n",
    "        i += 1\n",
    "\n",
    "for num in nextsquare():\n",
    "    if num >  100:\n",
    "        break\n",
    "    print(num)"
   ]
  },
  {
   "cell_type": "markdown",
   "metadata": {},
   "source": [
    "Iterators\n",
    "1. __iter(iterable)__ method called for initialization\n",
    "2. next(__next__) this returns next value for the iterable"
   ]
  },
  {
   "cell_type": "code",
   "execution_count": null,
   "metadata": {},
   "outputs": [],
   "source": [
    "iterable_value = \"Python\"\n",
    "interable_object = iter(iterable_value)\n",
    "\n",
    "while True:\n",
    "    try:\n",
    "\n",
    "        item = next(interable_object) #iterate by calling next\n",
    "        print(item)\n",
    "\n",
    "    except StopIteration:\n",
    "        #this will be excuted when iteration will get over\n",
    "        break"
   ]
  },
  {
   "cell_type": "markdown",
   "metadata": {},
   "source": [
    "Program to show the internal working of for loop"
   ]
  },
  {
   "cell_type": "code",
   "execution_count": null,
   "metadata": {},
   "outputs": [],
   "source": [
    "#program to see the working of iterators using example that iterates from 5 to a given limit\n",
    "class Test: #iterable user defined tpe\n",
    "    def __init__(self, limit): #contructor\n",
    "        print(\"Called __init__\") #exceuted once\n",
    "        self.limit = limit\n",
    "\n",
    "    #creating an iterator object that is initialized when called\n",
    "    def __iter__(self):\n",
    "        print(\"Called __iter__\") #this will be called once\n",
    "        self.x = 5\n",
    "        return self\n",
    "    \n",
    "    #to move to next element we have to replace next with __next__\n",
    "    def __next__(self): #this will be executed mutiple times\n",
    "        x = self.x\n",
    "        print(f\"Called __next__ {x}\")\n",
    "        if x > self.limit:\n",
    "            raise StopIteration\n",
    "\n",
    "        \n",
    "        self.x = x + 1\n",
    "        return x\n",
    "\n",
    "for i in Test(6):\n",
    "    print(i)\n",
    "\n"
   ]
  },
  {
   "cell_type": "markdown",
   "metadata": {},
   "source": [
    "Built-in iterators"
   ]
  },
  {
   "cell_type": "code",
   "execution_count": null,
   "metadata": {},
   "outputs": [],
   "source": [
    "print(\"List Iteration- \")\n",
    "l = [\"Python\", \"is\", \"easy\"] #in built-iterator\n",
    "for i in l:\n",
    "    print(i)\n",
    "\n",
    "print(\"\\nTuple Iteration- \")\n",
    "l = (\"Python\", \"is\", \"easy\") #in built-iterator\n",
    "for i in l:\n",
    "    print(i)"
   ]
  },
  {
   "cell_type": "code",
   "execution_count": null,
   "metadata": {},
   "outputs": [],
   "source": [
    "#sample example for generator\n",
    "def my_gen():\n",
    "    n = 1\n",
    "    print(\"This is printed first\")\n",
    "    yield n\n",
    "\n",
    "    n += 1\n",
    "    print(\"This is printed second\")\n",
    "    yield n\n",
    "\n",
    "    n += 1\n",
    "    print(\"This is printed last\")\n",
    "    yield n\n",
    "\n",
    "a = my_gen()\n",
    "#use next(a) to print the values"
   ]
  },
  {
   "cell_type": "code",
   "execution_count": null,
   "metadata": {},
   "outputs": [],
   "source": [
    "next(a)"
   ]
  },
  {
   "cell_type": "code",
   "execution_count": 32,
   "metadata": {},
   "outputs": [
    {
     "name": "stdout",
     "output_type": "stream",
     "text": [
      "Original string is = Python\n",
      "nohtyP"
     ]
    }
   ],
   "source": [
    "def rev_str(my_str):\n",
    "    length = len(my_str)\n",
    "    for i in range(length -1, -1, -1):\n",
    "        yield my_str[i]\n",
    "\n",
    "print(\"Original string is = Python\")\n",
    "#loop to reverse a string\n",
    "for char in rev_str(\"Python\"):\n",
    "    print(char,end = \"\")"
   ]
  },
  {
   "cell_type": "code",
   "execution_count": 45,
   "metadata": {},
   "outputs": [
    {
     "name": "stdout",
     "output_type": "stream",
     "text": [
      "[1, 9, 25, 49, 81]\n",
      "<generator object <genexpr> at 0x000002395DABD4D0>\n"
     ]
    }
   ],
   "source": [
    "lst = [1, 3, 5, 7, 9]\n",
    "#square of element using list comprehension\n",
    "list_comp = [x**2 for x in lst]\n",
    "print(list_comp)\n",
    "\n",
    "#the above thing can be done using generator expression as well\n",
    "#these generator expression are surrounded by paranthesis()\n",
    "\n",
    "generator = (x**2 for x in lst)\n",
    "print(generator) #this will not print the value untill it is asked for\n"
   ]
  },
  {
   "cell_type": "code",
   "execution_count": 48,
   "metadata": {},
   "outputs": [
    {
     "name": "stdout",
     "output_type": "stream",
     "text": [
      "25\n"
     ]
    }
   ],
   "source": [
    "#to produce result use print(next(generator))\n",
    "print(next(generator))"
   ]
  },
  {
   "cell_type": "code",
   "execution_count": 77,
   "metadata": {},
   "outputs": [],
   "source": [
    "def ev():\n",
    "    n = 0\n",
    "    while True:\n",
    "        yield n\n",
    "        n += 2\n",
    "\n",
    "a = ev()"
   ]
  },
  {
   "cell_type": "code",
   "execution_count": 76,
   "metadata": {},
   "outputs": [
    {
     "name": "stdout",
     "output_type": "stream",
     "text": [
      "52\n"
     ]
    }
   ],
   "source": [
    "print(next(a))"
   ]
  }
 ],
 "metadata": {
  "kernelspec": {
   "display_name": "Python 3.10.0 64-bit",
   "language": "python",
   "name": "python3"
  },
  "language_info": {
   "codemirror_mode": {
    "name": "ipython",
    "version": 3
   },
   "file_extension": ".py",
   "mimetype": "text/x-python",
   "name": "python",
   "nbconvert_exporter": "python",
   "pygments_lexer": "ipython3",
   "version": "3.10.0"
  },
  "orig_nbformat": 4,
  "vscode": {
   "interpreter": {
    "hash": "2c4a0e462d5eb47ccb02ab75c092febb222556232e160fc793b5c239a0fdd870"
   }
  }
 },
 "nbformat": 4,
 "nbformat_minor": 2
}
