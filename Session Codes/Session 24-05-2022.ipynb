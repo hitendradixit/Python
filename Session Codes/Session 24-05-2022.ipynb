{
 "cells": [
  {
   "cell_type": "markdown",
   "metadata": {},
   "source": [
    "OS MODULES"
   ]
  },
  {
   "cell_type": "code",
   "execution_count": 1,
   "metadata": {},
   "outputs": [],
   "source": [
    "import os"
   ]
  },
  {
   "cell_type": "code",
   "execution_count": 2,
   "metadata": {},
   "outputs": [
    {
     "name": "stdout",
     "output_type": "stream",
     "text": [
      "e:\\New folder\\Python\\Session Codes\n"
     ]
    }
   ],
   "source": [
    "#to check my current working directory\n",
    "print(os.getcwd())"
   ]
  },
  {
   "cell_type": "code",
   "execution_count": 4,
   "metadata": {},
   "outputs": [
    {
     "name": "stdout",
     "output_type": "stream",
     "text": [
      "The current working directory is e:\\New folder\\Python\n"
     ]
    }
   ],
   "source": [
    "#changing the directory\n",
    "def current_path():\n",
    "    print(f\"The current working directory is {os.getcwd()}\")\n",
    "os.chdir('../')\n",
    "current_path()"
   ]
  },
  {
   "cell_type": "code",
   "execution_count": 5,
   "metadata": {},
   "outputs": [],
   "source": [
    "#Creating a directory\n",
    "os.mkdir(\"Sample\")\n",
    "os.makedirs(\"Sample1\")"
   ]
  },
  {
   "cell_type": "code",
   "execution_count": 4,
   "metadata": {},
   "outputs": [
    {
     "name": "stdout",
     "output_type": "stream",
     "text": [
      "['Session 10-05-2022 1.ipynb', 'Session 10-05-2022 2.ipynb', 'Session 12-05-2022.ipynb', 'Session 17-05-2022.ipynb', 'Session 19-05-2022.ipynb', 'Session 24-05-2022.ipynb']\n"
     ]
    }
   ],
   "source": [
    "#to list out files and directories\n",
    "print(os.listdir())"
   ]
  },
  {
   "cell_type": "code",
   "execution_count": 9,
   "metadata": {},
   "outputs": [],
   "source": [
    "#to delete any directory\n",
    "os.remove(\"Sample1.txt\") #this only deletes the file not folder\n",
    "os.rmdir(\"Sample\") #this only deletes the folder"
   ]
  },
  {
   "cell_type": "code",
   "execution_count": 12,
   "metadata": {},
   "outputs": [
    {
     "name": "stdout",
     "output_type": "stream",
     "text": [
      "nt\n"
     ]
    }
   ],
   "source": [
    "print(os.name)"
   ]
  },
  {
   "cell_type": "code",
   "execution_count": 18,
   "metadata": {},
   "outputs": [
    {
     "name": "stdout",
     "output_type": "stream",
     "text": [
      "Lenovo\n"
     ]
    },
    {
     "data": {
      "text/plain": [
       "5"
      ]
     },
     "execution_count": 18,
     "metadata": {},
     "output_type": "execute_result"
    }
   ],
   "source": [
    "#How to open a file\n",
    "file = open(\"file1.txt\", \"w\")\n",
    "file.write(\"Lenovo\")\n",
    "\n",
    "file = open(\"file1.txt\",\"r\")\n",
    "text = file.read()\n",
    "print(text)\n",
    "#now doing the same thing with os module\n",
    "file = os.popen(\"file1.txt\", 'w')\n",
    "file.write(\"Hello\") #this will open up the file after writing in it"
   ]
  },
  {
   "cell_type": "code",
   "execution_count": 27,
   "metadata": {},
   "outputs": [],
   "source": [
    "#How to close a file?\n",
    "file = os.popen(\"file1.txt\", \"r\")\n",
    "file.read()\n",
    "file.close()"
   ]
  },
  {
   "cell_type": "code",
   "execution_count": 28,
   "metadata": {},
   "outputs": [],
   "source": [
    "#how to rename a file\n",
    "os.rename(\"file1.txt\", \"Sample.txt\")"
   ]
  },
  {
   "cell_type": "code",
   "execution_count": 31,
   "metadata": {},
   "outputs": [],
   "source": [
    "#to remove a file\n",
    "os.remove(\"E:/New folder/Python/Session Codes/Sample.txt\") #always give full path"
   ]
  },
  {
   "cell_type": "code",
   "execution_count": 33,
   "metadata": {},
   "outputs": [
    {
     "name": "stdout",
     "output_type": "stream",
     "text": [
      "False\n"
     ]
    }
   ],
   "source": [
    "#to check if file exists or not\n",
    "print(os.path.exists(\"Sample.txt\")) #gives true if file is present else false"
   ]
  },
  {
   "cell_type": "code",
   "execution_count": 38,
   "metadata": {},
   "outputs": [
    {
     "name": "stdout",
     "output_type": "stream",
     "text": [
      "4928 bytes\n"
     ]
    }
   ],
   "source": [
    "#to check the size of file\n",
    "size = os.path.getsize(\"Session 24-05-2022.ipynb\")\n",
    "print(f\"{size} bytes\") #file size is in bytes here"
   ]
  },
  {
   "cell_type": "markdown",
   "metadata": {},
   "source": [
    "Statistical Module"
   ]
  },
  {
   "cell_type": "code",
   "execution_count": 40,
   "metadata": {},
   "outputs": [],
   "source": [
    "import statistics as stat"
   ]
  },
  {
   "cell_type": "code",
   "execution_count": 49,
   "metadata": {},
   "outputs": [
    {
     "name": "stdout",
     "output_type": "stream",
     "text": [
      "The mean of the elements in the list is 7.5\n",
      "The meadian of the elements in the list is 9.0\n",
      "The mode of the list is 9\n",
      "The standard deviation of list is 2.5055493963954847\n"
     ]
    }
   ],
   "source": [
    "l = [2, 5, 6, 9, 10, 7, 9, 9, 9 ,9]\n",
    "\n",
    "print(f\"The mean of the elements in the list is {stat.mean(l)}\")\n",
    "print(f\"The meadian of the elements in the list is {stat.median(l)}\")\n",
    "print(f\"The mode of the list is {stat.mode(l)}\")\n",
    "print(f\"The standard deviation of list is {stat.stdev(l)}\")\n"
   ]
  },
  {
   "cell_type": "markdown",
   "metadata": {},
   "source": [
    "Creating user defined modules"
   ]
  },
  {
   "cell_type": "code",
   "execution_count": 52,
   "metadata": {},
   "outputs": [],
   "source": []
  },
  {
   "cell_type": "code",
   "execution_count": 77,
   "metadata": {},
   "outputs": [
    {
     "name": "stdout",
     "output_type": "stream",
     "text": [
      "Good Evening Adam\n"
     ]
    }
   ],
   "source": [
    "def greetings(name):\n",
    "    from datetime import datetime\n",
    "    curr_time = datetime.now().strftime(\"%H:%M:%S\")\n",
    "    if curr_time > \"12:00:00\" and curr_time <= \"17:00:00\":\n",
    "        print(f\"Good Afternoon {name}\")\n",
    "    elif curr_time > \"17:00:00\" and curr_time <= \"24:00:00\":\n",
    "        print(f\"Good Evening {name}\")\n",
    "    else:\n",
    "        print(f\"Good Morning {name}\")\n",
    "\n",
    "#save this whole code as a .py file\n",
    "greetings(\"Adam\")"
   ]
  },
  {
   "cell_type": "code",
   "execution_count": 74,
   "metadata": {},
   "outputs": [],
   "source": [
    "import MyModule1"
   ]
  },
  {
   "cell_type": "code",
   "execution_count": 75,
   "metadata": {},
   "outputs": [
    {
     "name": "stdout",
     "output_type": "stream",
     "text": [
      "Spain\n"
     ]
    }
   ],
   "source": [
    "a = MyModule1.person1[\"Country\"]\n",
    "print(a)"
   ]
  },
  {
   "cell_type": "markdown",
   "metadata": {},
   "source": [
    "CLASS"
   ]
  },
  {
   "cell_type": "code",
   "execution_count": 81,
   "metadata": {},
   "outputs": [],
   "source": [
    "class dog: #ceating an empty class\n",
    "    pass"
   ]
  },
  {
   "cell_type": "code",
   "execution_count": 83,
   "metadata": {},
   "outputs": [],
   "source": [
    "#create an object\n",
    "obj = dog()"
   ]
  },
  {
   "cell_type": "code",
   "execution_count": 85,
   "metadata": {},
   "outputs": [
    {
     "name": "stdout",
     "output_type": "stream",
     "text": [
      "This is Tommy here\n"
     ]
    }
   ],
   "source": [
    "class DOG:\n",
    "    attr1 = \"Mammal\"\n",
    "    def __init__(self, name):\n",
    "        self.name = name\n",
    "    def speak(self):\n",
    "        print(f\"This is {self.name} here\")\n",
    "Tommy = DOG(\"Tommy\")\n",
    "#print(f\"Tommy is a {(Tommy.__class__.attr1)}\")\n",
    "Tommy.speak()"
   ]
  },
  {
   "cell_type": "markdown",
   "metadata": {},
   "source": [
    "Inheritance"
   ]
  },
  {
   "cell_type": "code",
   "execution_count": 87,
   "metadata": {},
   "outputs": [
    {
     "name": "stdout",
     "output_type": "stream",
     "text": [
      "This is display () called from Person class My name is Rahul\n",
      "This is emp class called My name is Rahul and my sal is 80000\n"
     ]
    }
   ],
   "source": [
    "class Person(object):\n",
    "    def __init__(self, name):\n",
    "        self.name = name\n",
    "    def display(self):\n",
    "        print(f\"This is display () called from Person class My name is {self.name}\")\n",
    "    def details(self):\n",
    "        print(f\"This is details() called from Person class My name is {self.name}\")\n",
    "class Emp(Person):\n",
    "    def __init__(self, name, sal):\n",
    "        self.sal = sal\n",
    "        Person.__init__(self,name)\n",
    "    def details(self):\n",
    "        print(f\"This is emp class called My name is {self.name} and my sal is {self.sal}\")\n",
    "\n",
    "a = Emp(\"Rahul\", 80000)\n",
    "a.display()\n",
    "a.details()\n"
   ]
  },
  {
   "cell_type": "code",
   "execution_count": 90,
   "metadata": {},
   "outputs": [
    {
     "name": "stdout",
     "output_type": "stream",
     "text": [
      "Spparow can fly\n"
     ]
    }
   ],
   "source": [
    "class Bird:\n",
    "    def fly(self):\n",
    "        print(\"Many birds can fly\")\n",
    "class sparrow(Bird):\n",
    "    def fly(self):\n",
    "        print(\"Spparow can fly\")\n",
    "obj_bird  = Bird()\n",
    "obj_spparow = sparrow()\n",
    "obj_bird.fly()\n",
    "obj_spparow.fly()"
   ]
  },
  {
   "cell_type": "code",
   "execution_count": null,
   "metadata": {},
   "outputs": [],
   "source": []
  }
 ],
 "metadata": {
  "interpreter": {
   "hash": "2c4a0e462d5eb47ccb02ab75c092febb222556232e160fc793b5c239a0fdd870"
  },
  "kernelspec": {
   "display_name": "Python 3.10.0 64-bit",
   "language": "python",
   "name": "python3"
  },
  "language_info": {
   "codemirror_mode": {
    "name": "ipython",
    "version": 3
   },
   "file_extension": ".py",
   "mimetype": "text/x-python",
   "name": "python",
   "nbconvert_exporter": "python",
   "pygments_lexer": "ipython3",
   "version": "3.10.0"
  },
  "orig_nbformat": 4
 },
 "nbformat": 4,
 "nbformat_minor": 2
}
